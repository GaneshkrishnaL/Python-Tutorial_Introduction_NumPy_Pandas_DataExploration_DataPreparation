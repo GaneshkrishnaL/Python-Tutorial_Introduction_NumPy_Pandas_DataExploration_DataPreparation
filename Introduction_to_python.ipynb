{
  "nbformat": 4,
  "nbformat_minor": 0,
  "metadata": {
    "colab": {
      "provenance": []
    },
    "kernelspec": {
      "name": "python3",
      "display_name": "Python 3"
    },
    "language_info": {
      "name": "python"
    }
  },
  "cells": [
    {
      "cell_type": "markdown",
      "source": [
        "# Python Tutorial Data Mining 4334/5334.005\n",
        "contents:\n",
        "\n",
        "1. Introduction : Basic data types, Arithmetic operators, Basic functions, math module, and String maipulations.\n",
        "2. Compound Data Types : List, Dictionary, Tuple, Set\n",
        "3. Control Flow Statements: if,elif,else, for, and while.\n",
        "4. Functions: user defined functions, lambda functions"
      ],
      "metadata": {
        "id": "EKVGqxdET3Lw"
      }
    },
    {
      "cell_type": "markdown",
      "source": [
        "# 1 . Introduction : Basic data types, Arithmetic operators, String manipulation.\n",
        " Python is a high level language with extensive libraries available to perform various data analysis tasks.\n",
        "\n",
        " 1.Dynamically typed - you dont need to explicitly define type of variable before using it.\n",
        "\n",
        "2 .Instead of { } , python uses whitespace indentations to group together related statements in loops.\n",
        "\n",
        "\n",
        "\n"
      ],
      "metadata": {
        "id": "qR1rLI7fVLp3"
      }
    },
    {
      "cell_type": "code",
      "source": [
        "'''\n",
        "Rules for variable names :\n",
        "\n",
        "1.names can not start with a number\n",
        "\n",
        "2.names can not contain spaces, use _ intead\n",
        "\n",
        "3.names can not contain any of these symbols:  :'\",<>/?|\\!@#%^&*~-+\n",
        "\n",
        "4.it's considered best practice (PEP8) that names are lowercase with underscores\n",
        "\n",
        "5.avoid using Python built-in keywords like list and str\n",
        "\n",
        "'''\n",
        "subject_name='data mining'\n",
        "subject_name\n",
        "\n"
      ],
      "metadata": {
        "colab": {
          "base_uri": "https://localhost:8080/",
          "height": 35
        },
        "id": "qcqhPtXvFo4F",
        "outputId": "8ca16f8d-5234-4756-c13f-54ce65bf6383"
      },
      "execution_count": null,
      "outputs": [
        {
          "output_type": "execute_result",
          "data": {
            "text/plain": [
              "'data mining'"
            ],
            "application/vnd.google.colaboratory.intrinsic+json": {
              "type": "string"
            }
          },
          "metadata": {},
          "execution_count": 15
        }
      ]
    },
    {
      "cell_type": "markdown",
      "source": [
        "Basic data type"
      ],
      "metadata": {
        "id": "_L7kD6ODAt2v"
      }
    },
    {
      "cell_type": "code",
      "source": [
        "\n",
        "#integer type, float type, string type, boolean type - basic DATA TyPES in Python\n",
        "numb=6789\n",
        "print(numb)\n",
        "print(type(numb))\n",
        "name='data mining'\n",
        "print(type(name))\n",
        "floating=6.799\n",
        "print(type(floating))"
      ],
      "metadata": {
        "colab": {
          "base_uri": "https://localhost:8080/"
        },
        "id": "a5LUsCO0Y3Vc",
        "outputId": "17ff43b0-be34-4752-e6f6-a23e38ee4103"
      },
      "execution_count": null,
      "outputs": [
        {
          "output_type": "stream",
          "name": "stdout",
          "text": [
            "6789\n",
            "<class 'int'>\n",
            "<class 'str'>\n",
            "<class 'float'>\n"
          ]
        }
      ]
    },
    {
      "cell_type": "code",
      "source": [
        "#Arithmetic operators : +,-,*,/,//,%\n",
        "num1=20\n",
        "num2=30\n",
        "\n",
        "addition=num1+num2\n",
        "subt=num1-num2\n",
        "mult=num1*num2\n",
        "division=num1/num2\n",
        "floordivision=num1//num2\n",
        "modulo=num1%num2\n",
        "\n",
        "print(addition)\n",
        "print(subt)\n",
        "print(mult)\n",
        "print(division)\n",
        "print(floordivision)\n",
        "print(modulo)"
      ],
      "metadata": {
        "colab": {
          "base_uri": "https://localhost:8080/"
        },
        "id": "r3xCBTDeZJvC",
        "outputId": "65c0d470-4c53-43cd-a2eb-e1f7336486d4"
      },
      "execution_count": null,
      "outputs": [
        {
          "output_type": "stream",
          "name": "stdout",
          "text": [
            "50\n",
            "-10\n",
            "600\n",
            "0.6666666666666666\n",
            "0\n",
            "20\n"
          ]
        }
      ]
    },
    {
      "cell_type": "code",
      "source": [
        "# Arthmetic operators can be combined with assignment operator =\n",
        "num3=50\n",
        "\n",
        "num3+=100 # num3=num3+100\n",
        "print(num3)\n",
        "\n",
        "# reassignment is possible without any error\n",
        "num3=500\n",
        "print(num3)"
      ],
      "metadata": {
        "colab": {
          "base_uri": "https://localhost:8080/"
        },
        "id": "Mp--pMmlc12p",
        "outputId": "b00bb1e6-7d0e-4ae8-8676-32500b11c36e"
      },
      "execution_count": null,
      "outputs": [
        {
          "output_type": "stream",
          "name": "stdout",
          "text": [
            "150\n",
            "500\n"
          ]
        }
      ]
    },
    {
      "cell_type": "code",
      "source": [
        "#some useful builtin functions in python\n",
        "\n",
        "\n",
        "# to get power of a number, we use ** operator, ex: **2(square),..\n",
        "num4=50\n",
        "powerr=num4**2\n",
        "print(powerr)\n",
        "\n",
        "#Similarly, you can use pow function ,that takes(number, power_value)\n",
        "powerrr=pow(50,2)\n",
        "print('using pow ',powerr)\n"
      ],
      "metadata": {
        "colab": {
          "base_uri": "https://localhost:8080/"
        },
        "id": "GPrWtmS7OOM-",
        "outputId": "741328cb-c64c-419e-bfc7-ebd4e2f96d00"
      },
      "execution_count": null,
      "outputs": [
        {
          "output_type": "stream",
          "name": "stdout",
          "text": [
            "2500\n",
            "using pow  2500\n"
          ]
        }
      ]
    },
    {
      "cell_type": "code",
      "source": [
        "# Round function to round the values: round(float value, optional : upto decimal pts)\n",
        "\n",
        "floating_pt=1.51\n",
        "floating_pt2=1.47\n",
        "\n",
        "round1=round(floating_pt)\n",
        "round2=round(floating_pt2)\n",
        "\n",
        "print(round1)\n",
        "print(round2)\n"
      ],
      "metadata": {
        "colab": {
          "base_uri": "https://localhost:8080/"
        },
        "id": "7wJDcsQPPmkf",
        "outputId": "6c5ced3b-562e-40ea-e72e-f87776782a6f"
      },
      "execution_count": null,
      "outputs": [
        {
          "output_type": "stream",
          "name": "stdout",
          "text": [
            "2\n",
            "1\n"
          ]
        }
      ]
    },
    {
      "cell_type": "code",
      "source": [
        "#Type Casting - converting one data type to another data type\n",
        "integer_val= 3\n",
        "\n",
        "changing_value=float(integer_val)\n",
        "\n",
        "print(type(changing_value))\n"
      ],
      "metadata": {
        "colab": {
          "base_uri": "https://localhost:8080/"
        },
        "id": "4cJAp35iSIh9",
        "outputId": "1f9f8dd8-1f41-4fe0-8a3b-aab983d231e6"
      },
      "execution_count": null,
      "outputs": [
        {
          "output_type": "stream",
          "name": "stdout",
          "text": [
            "<class 'float'>\n"
          ]
        }
      ]
    },
    {
      "cell_type": "code",
      "source": [
        "# EXPLORING MATH MODULE - sqrt , log10,exp,pi,fabs,factorial,ceil,floor,nan,isnan\n",
        "\n",
        "import math\n",
        "\n",
        "print(math.sqrt(25))\n",
        "print(math.log10(2))\n",
        "print(math.exp(5))\n",
        "print(math.pi)\n",
        "print(math.fabs(-100))\n",
        "print(math.factorial(5)) #5.4.3.2.1\n",
        "print(math.ceil(1.2))\n",
        "print(math.floor(1.2))\n",
        "\n",
        "a=math.nan\n",
        "\n",
        "print(math.isnan(a))"
      ],
      "metadata": {
        "colab": {
          "base_uri": "https://localhost:8080/"
        },
        "id": "fOS8FDZ7SsW1",
        "outputId": "f0a5a845-4684-495d-b2d3-788143c49ff1"
      },
      "execution_count": null,
      "outputs": [
        {
          "output_type": "stream",
          "name": "stdout",
          "text": [
            "5.0\n",
            "0.3010299956639812\n",
            "148.4131591025766\n",
            "3.141592653589793\n",
            "100.0\n",
            "120\n",
            "2\n",
            "1\n",
            "True\n"
          ]
        }
      ]
    },
    {
      "cell_type": "code",
      "source": [
        "# Boolean data types\n",
        "a= True\n",
        "b=True\n",
        "print(type(a))"
      ],
      "metadata": {
        "colab": {
          "base_uri": "https://localhost:8080/"
        },
        "id": "5ZAWCSmJcY1H",
        "outputId": "70d7ea51-86b1-4797-ef4b-42eef5e984ba"
      },
      "execution_count": null,
      "outputs": [
        {
          "output_type": "stream",
          "name": "stdout",
          "text": [
            "<class 'bool'>\n"
          ]
        }
      ]
    },
    {
      "cell_type": "code",
      "source": [
        "#Logical operations - and, or and not\n",
        "# and - both the conditions need to be true   - to be TRUE\n",
        "# or - either of the condition needs to be true - to be TRUE\n",
        "# not - oppisite of True\n",
        "\n",
        "credit_rating=True\n",
        "income=False\n",
        "approved=credit_rating or income\n",
        "approved\n",
        "\n",
        "not_approved= not(credit_rating or income)\n",
        "print('not op',not_approved)"
      ],
      "metadata": {
        "colab": {
          "base_uri": "https://localhost:8080/"
        },
        "id": "vEZZ0CDIdfbr",
        "outputId": "b4c7e1d1-3b02-4f96-b7d4-e961053e583e"
      },
      "execution_count": null,
      "outputs": [
        {
          "output_type": "stream",
          "name": "stdout",
          "text": [
            "not op False\n"
          ]
        }
      ]
    },
    {
      "cell_type": "markdown",
      "source": [
        "###String manipulation\n",
        "###strings are iterable, ordered, and immutable object."
      ],
      "metadata": {
        "id": "nuaUnuhR6oYV"
      }
    },
    {
      "cell_type": "code",
      "source": [
        "\n",
        "\n",
        "# ordered - indexing , and slicing\n",
        "univ='Ut Arlington'\n",
        "\n",
        "# indexing - starts from zero, n\n",
        "# univ[start,stop,step] - [0, n, 1]\n",
        "#     0         -2 -1\n",
        "\n",
        "univ[-1]\n",
        "\n",
        "print('part of the string', univ[3:])\n",
        "print('reverse of  string',univ[::-1])\n",
        "print('sub string',univ[9:])"
      ],
      "metadata": {
        "colab": {
          "base_uri": "https://localhost:8080/"
        },
        "id": "XqyOUozIdlAb",
        "outputId": "b0c3717e-b384-420c-c054-a045f190a902"
      },
      "execution_count": null,
      "outputs": [
        {
          "output_type": "stream",
          "name": "stdout",
          "text": [
            "part of the string Arlington\n",
            "reverse of  string notgnilrA tU\n",
            "sub string ton\n"
          ]
        }
      ]
    },
    {
      "cell_type": "code",
      "source": [
        "# immutability\n",
        "immutable='cannot change'\n",
        "\n",
        "#immutable[0]='P'"
      ],
      "metadata": {
        "id": "I76mVaLWf8VJ"
      },
      "execution_count": null,
      "outputs": []
    },
    {
      "cell_type": "code",
      "source": [
        "#string functions - upper(), lower(), and len()\n",
        "\n",
        "subject='strings'\n",
        "print('upper',subject.upper())\n",
        "print('lower',subject.lower())\n",
        "print('length of the string ',len(subject))\n"
      ],
      "metadata": {
        "colab": {
          "base_uri": "https://localhost:8080/"
        },
        "id": "xajCuPYKjdWk",
        "outputId": "83a1e285-9f5d-4188-f0ab-7d76239fcf55"
      },
      "execution_count": null,
      "outputs": [
        {
          "output_type": "stream",
          "name": "stdout",
          "text": [
            "upper STRINGS\n",
            "lower strings\n",
            "length of the string  7\n"
          ]
        }
      ]
    },
    {
      "cell_type": "code",
      "source": [
        "  # split(seperator), replace(old,new), and find(substr)\n",
        "#split()  -  take   the string and splits into a list of words based on the seperator\n",
        "university='university of texas arlington'\n",
        "splitted=university.split()\n",
        "print(splitted)\n",
        "\n",
        "print('replace function ', university.replace('of', 'UTA'))\n",
        "\n",
        "print('find function', university.find('texas'))\n",
        "\n",
        "#' '.join(iterable)\n",
        "\n",
        "print('join function', \" \".join(['R1','university']) )\n",
        "# +, in , ==, <\n",
        "\n",
        "combined=subject+university\n",
        "print(combined)\n",
        "\n",
        "print( 'app' in 'apple')\n",
        "\n",
        "print('apple' < 'apple')\n",
        "\n"
      ],
      "metadata": {
        "colab": {
          "base_uri": "https://localhost:8080/"
        },
        "id": "Ddf_kHR7jfF5",
        "outputId": "7ffdaa27-ec2e-41b1-e056-b80dbab65915"
      },
      "execution_count": null,
      "outputs": [
        {
          "output_type": "stream",
          "name": "stdout",
          "text": [
            "['university', 'of', 'texas', 'arlington']\n",
            "replace function  university UTA texas arlington\n",
            "find function 14\n",
            "join function R1 university\n",
            "stringsuniversity of texas arlington\n",
            "True\n",
            "False\n"
          ]
        }
      ]
    },
    {
      "cell_type": "markdown",
      "source": [
        "#2. compound Data Types : List, Dictionary, Tuple, Set\n",
        "# List\n",
        "Lists can be thought of the most general version of a sequence in Python. Unlike strings, they are mutable, meaning the elements inside a list can be changed!\n",
        "\n",
        "so, List is **Ordered and Mutable**\n",
        "\n",
        "In this section we will learn about:\n",
        "\n",
        "1.) Creating lists\n",
        "2.) Indexing and Slicing Lists\n",
        "3.) Basic List Methods (range, len,sum, append, pop, sort, remove)\n",
        "4.) concatination, and replication.\n",
        "5.) Introduction to List Comprehensions\n",
        "\n",
        "Lists are constructed with brackets [] and commas separating every element in the list."
      ],
      "metadata": {
        "id": "ubeB7LO2y9BP"
      }
    },
    {
      "cell_type": "markdown",
      "source": [
        "creating list"
      ],
      "metadata": {
        "id": "V-4Q9WHTDFOq"
      }
    },
    {
      "cell_type": "code",
      "source": [
        "colors=['green','blue','black','white',1,2,3,1.99]\n",
        "print(colors)\n",
        "print(type(colors))\n"
      ],
      "metadata": {
        "id": "Sk4_YZkxkEEd",
        "colab": {
          "base_uri": "https://localhost:8080/"
        },
        "outputId": "06cf9b1a-36f3-4b49-cd23-6a5188e27f4c"
      },
      "execution_count": null,
      "outputs": [
        {
          "output_type": "stream",
          "name": "stdout",
          "text": [
            "['green', 'blue', 'black', 'white', 1, 2, 3, 1.99]\n",
            "<class 'list'>\n"
          ]
        }
      ]
    },
    {
      "cell_type": "markdown",
      "source": [
        "indexing and slicing\n"
      ],
      "metadata": {
        "id": "Jo40vImFDCsT"
      }
    },
    {
      "cell_type": "code",
      "source": [
        "colors[0]"
      ],
      "metadata": {
        "id": "LzZRhj2MC7qI",
        "colab": {
          "base_uri": "https://localhost:8080/",
          "height": 35
        },
        "outputId": "ccf2a6b8-d757-450c-d5c7-07252f9490bc"
      },
      "execution_count": null,
      "outputs": [
        {
          "output_type": "execute_result",
          "data": {
            "text/plain": [
              "'green'"
            ],
            "application/vnd.google.colaboratory.intrinsic+json": {
              "type": "string"
            }
          },
          "metadata": {},
          "execution_count": 64
        }
      ]
    },
    {
      "cell_type": "code",
      "source": [
        "colors[1:4] #start is inclusive, #stop is not inclusive of the number\n",
        "colors[::-1]"
      ],
      "metadata": {
        "id": "IJeoNIAkDH2m",
        "colab": {
          "base_uri": "https://localhost:8080/"
        },
        "outputId": "8a6f7640-f072-4ca5-89d0-06ad61eb0079"
      },
      "execution_count": null,
      "outputs": [
        {
          "output_type": "execute_result",
          "data": {
            "text/plain": [
              "[1.99, 3, 2, 1, 'white', 'black', 'blue', 'green']"
            ]
          },
          "metadata": {},
          "execution_count": 66
        }
      ]
    },
    {
      "cell_type": "markdown",
      "source": [
        "Lists are mutable"
      ],
      "metadata": {
        "id": "DvmuDzs5DXJq"
      }
    },
    {
      "cell_type": "code",
      "source": [
        "colors[0]='purple'\n",
        "print(colors)"
      ],
      "metadata": {
        "id": "zVkQtge3DLF1",
        "colab": {
          "base_uri": "https://localhost:8080/"
        },
        "outputId": "20798bdd-8abd-439a-a2cb-4bdcd853b54c"
      },
      "execution_count": null,
      "outputs": [
        {
          "output_type": "stream",
          "name": "stdout",
          "text": [
            "['purple', 'blue', 'black', 'white', 1, 2, 3, 1.99]\n"
          ]
        }
      ]
    },
    {
      "cell_type": "markdown",
      "source": [
        "Basic list methods - range, len,sum, append, pop, index, min & max, sort, insert."
      ],
      "metadata": {
        "id": "vaq_LNOwDoC4"
      }
    },
    {
      "cell_type": "code",
      "source": [
        "# using range\n",
        "#range(start,stop,step)\n",
        "usingrange=list(range(0,11,2))\n",
        "print(usingrange)\n"
      ],
      "metadata": {
        "id": "Uhuq8xcNDgA7",
        "colab": {
          "base_uri": "https://localhost:8080/"
        },
        "outputId": "dedaf4d5-0f60-4edf-aabd-b1595a81f7c7"
      },
      "execution_count": null,
      "outputs": [
        {
          "output_type": "stream",
          "name": "stdout",
          "text": [
            "[0, 2, 4, 6, 8, 10]\n"
          ]
        }
      ]
    },
    {
      "cell_type": "code",
      "source": [
        "#finding total no of elements in a list using len(), and sum()\n",
        "length=len(usingrange)\n",
        "print(length)\n",
        "\n",
        "summation=sum(usingrange)\n",
        "print(summation)\n"
      ],
      "metadata": {
        "id": "BbfcBnTpD-15",
        "colab": {
          "base_uri": "https://localhost:8080/"
        },
        "outputId": "273e8956-3b80-4119-8e7c-ecf5d12b2895"
      },
      "execution_count": null,
      "outputs": [
        {
          "output_type": "stream",
          "name": "stdout",
          "text": [
            "6\n",
            "30\n"
          ]
        }
      ]
    },
    {
      "cell_type": "code",
      "source": [
        "# append and pop to add and remove elements from the list\n",
        "salaries=[100,2000,1500,4000]\n",
        "salaries.append(8899)\n",
        "print(salaries)\n",
        "\n"
      ],
      "metadata": {
        "id": "LwjZD1oREqQo",
        "colab": {
          "base_uri": "https://localhost:8080/"
        },
        "outputId": "f6eece59-637a-45d0-ab06-243b4cd823de"
      },
      "execution_count": null,
      "outputs": [
        {
          "output_type": "stream",
          "name": "stdout",
          "text": [
            "[100, 2000, 1500, 4000, 8899]\n"
          ]
        }
      ]
    },
    {
      "cell_type": "code",
      "source": [
        "# pop\n",
        "\n",
        "salaries.pop()"
      ],
      "metadata": {
        "colab": {
          "base_uri": "https://localhost:8080/"
        },
        "id": "1byUqjPEcRIx",
        "outputId": "394ea3af-8a5c-4ec2-a6e5-577bae6339ce"
      },
      "execution_count": null,
      "outputs": [
        {
          "output_type": "execute_result",
          "data": {
            "text/plain": [
              "8899"
            ]
          },
          "metadata": {},
          "execution_count": 72
        }
      ]
    },
    {
      "cell_type": "code",
      "source": [
        "popatindex=salaries.pop(0)\n",
        "print(popatindex)\n",
        "print(salaries)"
      ],
      "metadata": {
        "colab": {
          "base_uri": "https://localhost:8080/"
        },
        "id": "t4JZmuB0cZJy",
        "outputId": "0dd90a1b-7a28-4864-91c8-b26ddb35cba5"
      },
      "execution_count": null,
      "outputs": [
        {
          "output_type": "stream",
          "name": "stdout",
          "text": [
            "2000\n",
            "[1500, 4000]\n"
          ]
        }
      ]
    },
    {
      "cell_type": "code",
      "source": [
        "#min, max, index()\n",
        "salary=[4,5,9,1]\n",
        "\n",
        "print(min(salary))\n",
        "print(max(salary))\n",
        "\n",
        "print(salary.index(9))"
      ],
      "metadata": {
        "id": "rd2YVNnXOVS7",
        "colab": {
          "base_uri": "https://localhost:8080/"
        },
        "outputId": "939e265a-1202-4f85-8451-6026314ee355"
      },
      "execution_count": null,
      "outputs": [
        {
          "output_type": "stream",
          "name": "stdout",
          "text": [
            "1\n",
            "9\n",
            "2\n"
          ]
        }
      ]
    },
    {
      "cell_type": "code",
      "source": [
        "# sort(reverse=T/F), insert(ix,item)\n",
        "\n",
        "forreverse=['andy','bob','mat','apple']\n",
        "\n",
        "forreverse.sort(reverse=False)\n",
        "forreverse\n"
      ],
      "metadata": {
        "id": "CWs2sHtmFrvm",
        "colab": {
          "base_uri": "https://localhost:8080/"
        },
        "outputId": "397eb1f2-e9fc-4a6e-aa74-05c24086bd1b"
      },
      "execution_count": null,
      "outputs": [
        {
          "output_type": "execute_result",
          "data": {
            "text/plain": [
              "['andy', 'apple', 'bob', 'mat']"
            ]
          },
          "metadata": {},
          "execution_count": 82
        }
      ]
    },
    {
      "cell_type": "code",
      "source": [
        "#insert(index, item)\n",
        "\n",
        "forreverse.insert(4,'mango')\n",
        "print(forreverse)"
      ],
      "metadata": {
        "colab": {
          "base_uri": "https://localhost:8080/"
        },
        "id": "g8nR3sZQdSSR",
        "outputId": "bd60281b-85b8-4058-a9e2-f86f48ce2df7"
      },
      "execution_count": null,
      "outputs": [
        {
          "output_type": "stream",
          "name": "stdout",
          "text": [
            "['andy', 'apple', 'bob', 'mat', 'mango']\n"
          ]
        }
      ]
    },
    {
      "cell_type": "markdown",
      "source": [
        "concatenation and replication of lists"
      ],
      "metadata": {
        "id": "Jd1MBugGNJ-o"
      }
    },
    {
      "cell_type": "code",
      "source": [
        "combine_list=salary+forreverse\n",
        "print(combine_list)\n",
        "\n",
        "repl=forreverse*2\n",
        "print('replication of forreverse list',repl)"
      ],
      "metadata": {
        "id": "9oaOaTz3H80c",
        "colab": {
          "base_uri": "https://localhost:8080/"
        },
        "outputId": "553edce3-d603-4f2b-823d-e259aa3622cd"
      },
      "execution_count": null,
      "outputs": [
        {
          "output_type": "stream",
          "name": "stdout",
          "text": [
            "[4, 5, 9, 1, 'andy', 'apple', 'bob', 'mat', 'mango']\n",
            "replication of forreverse list ['andy', 'apple', 'bob', 'mat', 'mango', 'andy', 'apple', 'bob', 'mat', 'mango']\n"
          ]
        }
      ]
    },
    {
      "cell_type": "markdown",
      "source": [
        "Introduction to list comprehension\n"
      ],
      "metadata": {
        "id": "FcEjao1hOBUa"
      }
    },
    {
      "cell_type": "code",
      "source": [
        "salary=[4,5,9,1]\n",
        "\n",
        "listcompre=[sal*100 for sal in salary]\n",
        "print('comprehension', listcompre)"
      ],
      "metadata": {
        "id": "FzhOvLhyNias",
        "colab": {
          "base_uri": "https://localhost:8080/"
        },
        "outputId": "72d9a532-295d-430d-ed72-01740e8834ba"
      },
      "execution_count": null,
      "outputs": [
        {
          "output_type": "stream",
          "name": "stdout",
          "text": [
            "comprehension [400, 500, 900, 100]\n"
          ]
        }
      ]
    },
    {
      "cell_type": "markdown",
      "source": [
        "# Dictionary\n",
        " Dictionaries are mappings in Python.  Mappings are a collection of objects that are stored by a key, unlike a sequence that stored objects by their relative position. This is an important distinction, since mappings won't retain order since they have objects defined by a key.\n",
        "\n",
        " - so, these are **UNORDERED, and Mutable.**\n",
        "\n",
        "This section will serve as a brief introduction to dictionaries and consist of:\n",
        "\n",
        "1.) Constructing a Dictionary\n",
        "2.) Accessing objects from a dictionary\n",
        "3.) Nesting Dictionaries\n",
        "4.) Basic Dictionary Methods\n",
        "\n",
        "\n",
        "\n",
        "A Python dictionary consists of a key and then an associated value. That value can be almost any Python object."
      ],
      "metadata": {
        "id": "RyDa23LsPoes"
      }
    },
    {
      "cell_type": "markdown",
      "source": [
        "constructing a dictionary"
      ],
      "metadata": {
        "id": "pRVPKudPSvK7"
      }
    },
    {
      "cell_type": "code",
      "source": [
        "prices={'apple':1.99,'mango':2.99,'milk':3.29,'eggs':5.69}\n",
        "print(prices)\n",
        "print(type(prices))"
      ],
      "metadata": {
        "id": "DS2w-e7-OKRp",
        "colab": {
          "base_uri": "https://localhost:8080/"
        },
        "outputId": "d19dbe13-ca4d-494c-d32d-7f143595881d"
      },
      "execution_count": null,
      "outputs": [
        {
          "output_type": "stream",
          "name": "stdout",
          "text": [
            "{'apple': 1.99, 'mango': 2.99, 'milk': 3.29, 'eggs': 5.69}\n",
            "<class 'dict'>\n"
          ]
        }
      ]
    },
    {
      "cell_type": "markdown",
      "source": [
        "Accessing objects from a dictionary"
      ],
      "metadata": {
        "id": "AkpB-ldDTLzw"
      }
    },
    {
      "cell_type": "code",
      "source": [
        "# if you want to lookup price of milk\n",
        "prices['apple']"
      ],
      "metadata": {
        "id": "vks8HVlLTJJ2",
        "colab": {
          "base_uri": "https://localhost:8080/"
        },
        "outputId": "dfe8b87d-89bd-4e14-b164-562ff8053938"
      },
      "execution_count": null,
      "outputs": [
        {
          "output_type": "execute_result",
          "data": {
            "text/plain": [
              "1.99"
            ]
          },
          "metadata": {},
          "execution_count": 91
        }
      ]
    },
    {
      "cell_type": "markdown",
      "source": [
        "nesting dictionaries"
      ],
      "metadata": {
        "id": "cB3SAoJ8TYif"
      }
    },
    {
      "cell_type": "code",
      "source": [
        "#lets create nested dictionary with various stores with same items from prices.\n",
        "stores={'walmart':{'apple':1.99,'mango':2.99,'milk':3.29,'eggs':5.69},\n",
        "        'target':{'apple':2.99,'mango':3.99,'milk':4.29,'eggs':6.69},\n",
        "        'UtaMarket':{'apple':1.99,'mango':2.79,'milk':2.29,'eggs':5.69}}\n",
        "stores['UtaMarket']['milk']"
      ],
      "metadata": {
        "id": "G0jZxEyuTUqt",
        "colab": {
          "base_uri": "https://localhost:8080/"
        },
        "outputId": "092af69a-2b36-41c9-d89e-22c9e487526f"
      },
      "execution_count": null,
      "outputs": [
        {
          "output_type": "execute_result",
          "data": {
            "text/plain": [
              "2.29"
            ]
          },
          "metadata": {},
          "execution_count": 93
        }
      ]
    },
    {
      "cell_type": "markdown",
      "source": [
        "Basic Dictionary Methods - keys(), values(), items()"
      ],
      "metadata": {
        "id": "BTkhGgGFUjWZ"
      }
    },
    {
      "cell_type": "code",
      "source": [
        "print(stores.keys())\n",
        "print(stores.values())\n",
        "print(stores.items())"
      ],
      "metadata": {
        "id": "STDs0gAMT2bO",
        "colab": {
          "base_uri": "https://localhost:8080/"
        },
        "outputId": "aa7cd699-f7f5-4e60-ccd0-79b8ace725de"
      },
      "execution_count": null,
      "outputs": [
        {
          "output_type": "stream",
          "name": "stdout",
          "text": [
            "dict_keys(['walmart', 'target', 'UtaMarket'])\n",
            "dict_values([{'apple': 1.99, 'mango': 2.99, 'milk': 3.29, 'eggs': 5.69}, {'apple': 2.99, 'mango': 3.99, 'milk': 4.29, 'eggs': 6.69}, {'apple': 1.99, 'mango': 2.79, 'milk': 2.29, 'eggs': 5.69}])\n",
            "dict_items([('walmart', {'apple': 1.99, 'mango': 2.99, 'milk': 3.29, 'eggs': 5.69}), ('target', {'apple': 2.99, 'mango': 3.99, 'milk': 4.29, 'eggs': 6.69}), ('UtaMarket', {'apple': 1.99, 'mango': 2.79, 'milk': 2.29, 'eggs': 5.69})])\n"
          ]
        }
      ]
    },
    {
      "cell_type": "code",
      "source": [
        "# checke if a item is present in dictionary\n",
        "print('eggs' in prices)"
      ],
      "metadata": {
        "id": "WffW_yWyVN1S",
        "colab": {
          "base_uri": "https://localhost:8080/"
        },
        "outputId": "a67e2b49-b7a4-4084-a653-2389b9cc0e96"
      },
      "execution_count": null,
      "outputs": [
        {
          "output_type": "stream",
          "name": "stdout",
          "text": [
            "True\n"
          ]
        }
      ]
    },
    {
      "cell_type": "code",
      "source": [
        "# combine two lists into a dictionary - using zip()\n",
        "li1=['pen','paper','scale']\n",
        "li2=[2,3,5]\n",
        "zippped=dict(zip(li1,li2))\n",
        "print(zippped)"
      ],
      "metadata": {
        "id": "0oKJcH5YV741",
        "colab": {
          "base_uri": "https://localhost:8080/"
        },
        "outputId": "fbc6fcce-95d6-4648-e5b7-21b2e3297b8a"
      },
      "execution_count": null,
      "outputs": [
        {
          "output_type": "stream",
          "name": "stdout",
          "text": [
            "{'pen': 2, 'paper': 3, 'scale': 5}\n"
          ]
        }
      ]
    },
    {
      "cell_type": "code",
      "source": [
        "#sort items based on keys and values -sorted(dict, key)\n",
        "sorted(prices.items(), key= lambda x:x[1])"
      ],
      "metadata": {
        "id": "cj69GJbWWTQR",
        "colab": {
          "base_uri": "https://localhost:8080/"
        },
        "outputId": "07a9bc8a-cb38-47f6-9687-433e7264131d"
      },
      "execution_count": null,
      "outputs": [
        {
          "output_type": "execute_result",
          "data": {
            "text/plain": [
              "[('apple', 1.99), ('mango', 2.99), ('milk', 3.29), ('eggs', 5.69)]"
            ]
          },
          "metadata": {},
          "execution_count": 98
        }
      ]
    },
    {
      "cell_type": "markdown",
      "source": [
        "#Tuples\n",
        "In Python tuples are very similar to lists, however, unlike lists they are immutable meaning they can not be changed.\n",
        "\n",
        "-tuples are **ordered and immutable**\n",
        "\n",
        "In this section, we will get a brief overview of the following:\n",
        "\n",
        "1.) Constructing Tuples\n",
        "2.) Basic Tuple Methods\n",
        "3.) Immutability\n",
        "4.) When to Use Tuples"
      ],
      "metadata": {
        "id": "58-jepcBYVXD"
      }
    },
    {
      "cell_type": "markdown",
      "source": [
        "Constructing Tuples"
      ],
      "metadata": {
        "id": "8YB2IZNoYk_i"
      }
    },
    {
      "cell_type": "code",
      "source": [
        "tuples=(1,2,3,'man')\n",
        "print(type(tuples))"
      ],
      "metadata": {
        "id": "BYKRWJIQXBzl",
        "colab": {
          "base_uri": "https://localhost:8080/"
        },
        "outputId": "83d528e4-8934-41fa-b914-0adc4c10c16f"
      },
      "execution_count": null,
      "outputs": [
        {
          "output_type": "stream",
          "name": "stdout",
          "text": [
            "<class 'tuple'>\n"
          ]
        }
      ]
    },
    {
      "cell_type": "code",
      "source": [
        "# since these are ordered , you can perform indexing and slicing\n",
        "\n",
        "print(tuples[::-1])"
      ],
      "metadata": {
        "id": "Tm7gbQwiYxbL",
        "colab": {
          "base_uri": "https://localhost:8080/"
        },
        "outputId": "ffbedf04-4cb9-418d-b035-a45663884a3f"
      },
      "execution_count": null,
      "outputs": [
        {
          "output_type": "stream",
          "name": "stdout",
          "text": [
            "('man', 3, 2, 1)\n"
          ]
        }
      ]
    },
    {
      "cell_type": "markdown",
      "source": [
        "basic methods - count and index"
      ],
      "metadata": {
        "id": "cFvupmtYfp2J"
      }
    },
    {
      "cell_type": "code",
      "source": [
        "print(tuples.count('man'))\n",
        "print(tuples.index('man'))"
      ],
      "metadata": {
        "id": "cGoo4_JOdtW_",
        "colab": {
          "base_uri": "https://localhost:8080/"
        },
        "outputId": "06be1cfc-3cc7-439c-cf72-6c0fa2d13db2"
      },
      "execution_count": null,
      "outputs": [
        {
          "output_type": "stream",
          "name": "stdout",
          "text": [
            "1\n",
            "3\n"
          ]
        }
      ]
    },
    {
      "cell_type": "markdown",
      "source": [
        "Immutability of Tuple"
      ],
      "metadata": {
        "id": "lGuApAu4gBrU"
      }
    },
    {
      "cell_type": "code",
      "source": [
        "#weekends[0]='friday'\n",
        "\n",
        "#tuples[3]=8"
      ],
      "metadata": {
        "id": "8bovOQ8zfohX"
      },
      "execution_count": null,
      "outputs": []
    },
    {
      "cell_type": "markdown",
      "source": [
        "When to Use Tuples ?\n",
        "- You would use tuples to present things that shouldn't be changed, such as days of the week, etc..\n",
        "- If in your program you are passing around an object and need to make sure it does not get changed, then a tuple becomes your solution. It provides a convenient source of data integrity.\n"
      ],
      "metadata": {
        "id": "q3ZiuLEDgQNS"
      }
    },
    {
      "cell_type": "markdown",
      "source": [
        "# Sets\n",
        "Sets are an unordered collection of unique elements. We can construct them by using the **set()** function. Let's go ahead and make a set to see how it works"
      ],
      "metadata": {
        "id": "LjOKyKGag2CU"
      }
    },
    {
      "cell_type": "code",
      "source": [
        "defining_set=set()\n",
        "defining_set.add(1)\n",
        "defining_set.add(2)\n",
        "defining_set.add(1)\n",
        "print(defining_set)"
      ],
      "metadata": {
        "id": "MQCYeumfgH4m",
        "colab": {
          "base_uri": "https://localhost:8080/"
        },
        "outputId": "cd9bd564-10df-4a0d-9601-91674b12bf72"
      },
      "execution_count": null,
      "outputs": [
        {
          "output_type": "stream",
          "name": "stdout",
          "text": [
            "{1, 2}\n"
          ]
        }
      ]
    },
    {
      "cell_type": "code",
      "source": [
        "set1={1,2,3,4}\n",
        "print(type(set1))"
      ],
      "metadata": {
        "id": "TASiLwTehRod",
        "colab": {
          "base_uri": "https://localhost:8080/"
        },
        "outputId": "92e70df9-2745-44d9-f0ac-7c51fc51e7f5"
      },
      "execution_count": null,
      "outputs": [
        {
          "output_type": "stream",
          "name": "stdout",
          "text": [
            "<class 'set'>\n"
          ]
        }
      ]
    },
    {
      "cell_type": "code",
      "source": [
        "#cast a list to a set\n",
        "listofdupes=[0,0,0,1,1,1,2,3,44,44,5]\n",
        "sett=set(listofdupes)\n",
        "print(sett)"
      ],
      "metadata": {
        "id": "r4-y3RIohVvG",
        "colab": {
          "base_uri": "https://localhost:8080/"
        },
        "outputId": "f37eb39f-8b01-494b-febe-676d11b957d6"
      },
      "execution_count": null,
      "outputs": [
        {
          "output_type": "stream",
          "name": "stdout",
          "text": [
            "{0, 1, 2, 3, 5, 44}\n"
          ]
        }
      ]
    },
    {
      "cell_type": "markdown",
      "source": [
        "# 3. Control flow statements : if, elif, else. for, and while."
      ],
      "metadata": {
        "id": "gZ3bMyT2jl5o"
      }
    },
    {
      "cell_type": "markdown",
      "source": [
        "**if, elif, else Statements**\n",
        "\n",
        "if Statements in Python allows us to tell the computer to perform alternative actions based on a certain set of results.\n",
        "\n",
        "Verbally, we can imagine we are telling the computer:\n",
        "\n",
        "\"Hey if this case happens, perform some action\"\n",
        "\n",
        "if case1:\n",
        "\n",
        "        perform action1\n",
        "elif case2:\n",
        "\n",
        "        perform action2\n",
        "else:\n",
        "\n",
        "        perform action3"
      ],
      "metadata": {
        "id": "kgWxCpyqkRgf"
      }
    },
    {
      "cell_type": "code",
      "source": [
        "#  take a number and print it if it is even, or print if the number is positive or negative.\n",
        "\n",
        "num=int(input('enter a number'))\n",
        "\n",
        "if num%2==0:\n",
        "  print('its a even number')\n",
        "elif num<0:\n",
        "  print('its a negative num')\n",
        "else:\n",
        "  print('positive number')\n",
        "\n",
        "\n",
        "\n",
        "\n"
      ],
      "metadata": {
        "id": "1L5wTk9Ghyzw",
        "colab": {
          "base_uri": "https://localhost:8080/"
        },
        "outputId": "8ed56155-e72b-4ab7-c5b5-334d5f039fde"
      },
      "execution_count": null,
      "outputs": [
        {
          "output_type": "stream",
          "name": "stdout",
          "text": [
            "enter a number5\n",
            "positive number\n"
          ]
        }
      ]
    },
    {
      "cell_type": "markdown",
      "source": [
        "**for Loops**\n",
        "\n",
        "A for loop acts as an iterator in Python; it goes through items that are in a sequence or any other iterable item. Objects that we've learned about that we can iterate over include strings, lists, tuples, and even built-in iterables for dictionaries, such as keys or values.\n",
        "\n",
        "for item in object:\n",
        "\n",
        "        statements"
      ],
      "metadata": {
        "id": "GwCNwkwmmi8u"
      }
    },
    {
      "cell_type": "code",
      "source": [
        "# using for loop on list of tuples\n",
        "# take dept,program tuples and return programs in sorted order.\n",
        "dept=[('engineering', 'information systems'),('engineering','computer science'),\n",
        "          ('engineering','data science'),('engineering', 'construction management')]\n",
        "programs=[]\n",
        "for item1,item2 in dept:\n",
        "  programs.append(item2)\n",
        "programs.sort()\n",
        "\n",
        "print('sorted programs', programs)\n",
        "\n"
      ],
      "metadata": {
        "id": "JgkN2oxQlckr",
        "colab": {
          "base_uri": "https://localhost:8080/"
        },
        "outputId": "d63716a4-1118-47a6-fc20-1f102c786d41"
      },
      "execution_count": null,
      "outputs": [
        {
          "output_type": "stream",
          "name": "stdout",
          "text": [
            "sorted programs ['computer science', 'construction management', 'data science', 'information systems']\n"
          ]
        }
      ]
    },
    {
      "cell_type": "code",
      "source": [
        "# using for loop on dictionary\n",
        "# return the list of keys starting with letter a\n",
        "age={'amy':26,'tom':18,'mat':21,'angel':23}\n",
        "listt=[]\n",
        "for k,v in age.items():\n",
        "  if k[0]=='a':\n",
        "    listt.append(k)\n",
        "  else:\n",
        "    pass\n",
        "print(listt)\n",
        "\n"
      ],
      "metadata": {
        "id": "IgYtpgCTnz-w",
        "colab": {
          "base_uri": "https://localhost:8080/"
        },
        "outputId": "658ff23f-5544-4584-99df-7c420f251db2"
      },
      "execution_count": null,
      "outputs": [
        {
          "output_type": "stream",
          "name": "stdout",
          "text": [
            "['amy', 'angel']\n"
          ]
        }
      ]
    },
    {
      "cell_type": "markdown",
      "source": [
        "**while Loops**\n",
        "\n",
        " A while statement will repeatedly execute a single statement or group of statements as long as the condition is true.\n",
        "\n",
        "\n",
        "The general format of a while loop is:\n",
        "\n",
        "while test:\n",
        "\n",
        "       code statements"
      ],
      "metadata": {
        "id": "Xtdg92y5raWQ"
      }
    },
    {
      "cell_type": "code",
      "source": [
        "# using while loop on a list, print negative number from list\n",
        "exlist=list(range(-9,8))\n",
        "\n",
        "print(exlist)\n",
        "\n",
        "i=0\n",
        "negative=[]\n",
        "\n",
        "while(exlist[i] < 0 ):\n",
        "  negative.append(exlist[i])\n",
        "\n",
        "  i+=1\n",
        "print('negative list', negative)\n"
      ],
      "metadata": {
        "id": "T-m04sMNn1LY",
        "colab": {
          "base_uri": "https://localhost:8080/"
        },
        "outputId": "2fe29743-e6df-4bcc-d5e0-bc7b30b9120a"
      },
      "execution_count": null,
      "outputs": [
        {
          "output_type": "stream",
          "name": "stdout",
          "text": [
            "[-9, -8, -7, -6, -5, -4, -3, -2, -1, 0, 1, 2, 3, 4, 5, 6, 7]\n",
            "negative list [-9, -8, -7, -6, -5, -4, -3, -2, -1]\n"
          ]
        }
      ]
    },
    {
      "cell_type": "markdown",
      "source": [
        "# 4. Functions :\n",
        "Functions are helpful when you plan on using a block of code multiple times. The function will allow you to call the same block of code without having to write it multiple times. This in turn will allow you to create more complex Python scripts.\n",
        "\n",
        "These are two types,\n",
        "1. User defined functions( def user_defined_name(arg1,arg2)\n",
        "2. Anonymous functions(lambda)"
      ],
      "metadata": {
        "id": "-hEiATXqtL9b"
      }
    },
    {
      "cell_type": "code",
      "source": [
        "# user defined functions\n",
        "# define a function for filtering out the missing data from a list\n",
        "import math\n",
        "def fitering_missing_values(listt):\n",
        "  non_missing=[]\n",
        "  for num in listt:\n",
        "    if  not math.isnan(num):\n",
        "      non_missing.append(num)\n",
        "    else:\n",
        "      pass\n",
        "  return non_missing\n",
        "\n",
        "li=[1,2,3,4,math.nan,5,math.nan,math.nan]\n",
        "\n"
      ],
      "metadata": {
        "id": "YNii9ZVyuxFm"
      },
      "execution_count": null,
      "outputs": []
    },
    {
      "cell_type": "code",
      "source": [
        "li"
      ],
      "metadata": {
        "colab": {
          "base_uri": "https://localhost:8080/"
        },
        "id": "c3yF38TKvB6D",
        "outputId": "e59dc497-b3f9-4dc5-d5c5-6839e72b74e4"
      },
      "execution_count": null,
      "outputs": [
        {
          "output_type": "execute_result",
          "data": {
            "text/plain": [
              "[1, 2, 3, 4, nan, 5, nan, nan]"
            ]
          },
          "metadata": {},
          "execution_count": 128
        }
      ]
    },
    {
      "cell_type": "code",
      "source": [
        "fitering_missing_values(li)"
      ],
      "metadata": {
        "colab": {
          "base_uri": "https://localhost:8080/"
        },
        "id": "wXv7bCrlu8jL",
        "outputId": "de8860d5-06f5-4499-9d91-4c5d86231cba"
      },
      "execution_count": null,
      "outputs": [
        {
          "output_type": "execute_result",
          "data": {
            "text/plain": [
              "[1, 2, 3, 4, 5]"
            ]
          },
          "metadata": {},
          "execution_count": 129
        }
      ]
    },
    {
      "cell_type": "code",
      "source": [
        "# anonymous function - lambda function"
      ],
      "metadata": {
        "id": "QHbme34GvqpB"
      },
      "execution_count": null,
      "outputs": []
    },
    {
      "cell_type": "markdown",
      "source": [
        "lambda expressions allow us to create \"anonymous\" functions. This basically means we can quickly make ad-hoc functions without needing to properly define a function using def."
      ],
      "metadata": {
        "id": "JiAHup-0wxlw"
      }
    },
    {
      "cell_type": "code",
      "source": [
        "def ctof(c):\n",
        "  f=c*(9/5)+32\n",
        "  return f\n",
        "ctof(0)"
      ],
      "metadata": {
        "id": "hHwC75R2w1gX",
        "colab": {
          "base_uri": "https://localhost:8080/"
        },
        "outputId": "ea199cee-b7bd-4a1e-b47c-618caa33ac66"
      },
      "execution_count": null,
      "outputs": [
        {
          "output_type": "execute_result",
          "data": {
            "text/plain": [
              "32.0"
            ]
          },
          "metadata": {},
          "execution_count": 130
        }
      ]
    },
    {
      "cell_type": "code",
      "source": [
        "def ctof(c): return c*(9/5)+32\n",
        "ctof(0)"
      ],
      "metadata": {
        "id": "Vb2kkn4YxQQO",
        "colab": {
          "base_uri": "https://localhost:8080/"
        },
        "outputId": "06b78784-d6d2-4435-8d6c-e13eb5b90eac"
      },
      "execution_count": null,
      "outputs": [
        {
          "output_type": "execute_result",
          "data": {
            "text/plain": [
              "32.0"
            ]
          },
          "metadata": {},
          "execution_count": 131
        }
      ]
    },
    {
      "cell_type": "code",
      "source": [
        "c_to_f = lambda c : c*(9/5)+32"
      ],
      "metadata": {
        "id": "RJBKF8OSxZ98"
      },
      "execution_count": null,
      "outputs": []
    },
    {
      "cell_type": "code",
      "source": [
        "c_to_f(0)"
      ],
      "metadata": {
        "id": "LcfMODg5x6Hx",
        "outputId": "2eebada5-aeda-4dbd-9ecc-0e78f59b15f8",
        "colab": {
          "base_uri": "https://localhost:8080/"
        }
      },
      "execution_count": null,
      "outputs": [
        {
          "output_type": "execute_result",
          "data": {
            "text/plain": [
              "32.0"
            ]
          },
          "metadata": {},
          "execution_count": 133
        }
      ]
    },
    {
      "cell_type": "code",
      "source": [],
      "metadata": {
        "id": "zzLl2lbUx7yt"
      },
      "execution_count": null,
      "outputs": []
    }
  ]
}