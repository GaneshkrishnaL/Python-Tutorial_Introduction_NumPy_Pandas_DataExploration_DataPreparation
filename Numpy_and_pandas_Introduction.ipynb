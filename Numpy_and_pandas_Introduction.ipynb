{
  "nbformat": 4,
  "nbformat_minor": 0,
  "metadata": {
    "colab": {
      "provenance": []
    },
    "kernelspec": {
      "name": "python3",
      "display_name": "Python 3"
    },
    "language_info": {
      "name": "python"
    }
  },
  "cells": [
    {
      "cell_type": "markdown",
      "source": [
        "# Introduction to numpy\n",
        "\n",
        "Numpy is a multidimensional array library. that you can use to  store all sorts of data 1d, 2d, 4d , etc..\n",
        "- why numpy when you have lists?\n",
        "    \n",
        "    Numpy is faster compared to Lists, as lists take up more space compared to numpy.\n",
        "    \n",
        "    "
      ],
      "metadata": {
        "id": "RJDUEtC1nuAQ"
      }
    },
    {
      "cell_type": "code",
      "source": [
        "#multiplication between two lists & numpy arrays\n",
        "'''l1=[1,2,3]\n",
        "l2=[4,5,6]\n",
        "l3=l1*l2\n",
        "print(l3)'''\n",
        "\n"
      ],
      "metadata": {
        "colab": {
          "base_uri": "https://localhost:8080/",
          "height": 35
        },
        "id": "zs_BFSk9o3Xm",
        "outputId": "46197c0a-8444-4070-c0e2-a1c8e6cd5551"
      },
      "execution_count": null,
      "outputs": [
        {
          "output_type": "execute_result",
          "data": {
            "text/plain": [
              "'l1=[1,2,3]\\nl2=[4,5,6]\\nl3=l1*l2\\nprint(l3)'"
            ],
            "application/vnd.google.colaboratory.intrinsic+json": {
              "type": "string"
            }
          },
          "metadata": {},
          "execution_count": 80
        }
      ]
    },
    {
      "cell_type": "markdown",
      "source": [
        "creating n dimensional array"
      ],
      "metadata": {
        "id": "Lj1kGosGrF72"
      }
    },
    {
      "cell_type": "code",
      "source": [
        "#1D array\n",
        "import numpy as np\n",
        "onedim=np.array([1,2,3,4])\n",
        "print(onedim)"
      ],
      "metadata": {
        "colab": {
          "base_uri": "https://localhost:8080/"
        },
        "id": "GAQ2ESxmpULm",
        "outputId": "770d5bae-fcfd-43da-91d3-76389de58cf2"
      },
      "execution_count": null,
      "outputs": [
        {
          "output_type": "stream",
          "name": "stdout",
          "text": [
            "[1 2 3 4]\n"
          ]
        }
      ]
    },
    {
      "cell_type": "code",
      "source": [
        "#2D arrray\n",
        "twodim=np.array([[1,2,3],[1,2,3],[4,5,6]]) #[[1,2,3],[4,5,6]]\n",
        "print(twodim)"
      ],
      "metadata": {
        "colab": {
          "base_uri": "https://localhost:8080/"
        },
        "id": "Q1vA-K0jp3is",
        "outputId": "5603f459-9a99-4fcd-fc4c-e1d6cf479436"
      },
      "execution_count": null,
      "outputs": [
        {
          "output_type": "stream",
          "name": "stdout",
          "text": [
            "[[1 2 3]\n",
            " [1 2 3]\n",
            " [4 5 6]]\n"
          ]
        }
      ]
    },
    {
      "cell_type": "code",
      "source": [
        "#getting dimentions using .ndim\n",
        "print(twodim.ndim)"
      ],
      "metadata": {
        "colab": {
          "base_uri": "https://localhost:8080/"
        },
        "id": "qcgFPgUAqIWj",
        "outputId": "b5cdc8e1-d19f-4319-e567-ef181a594b07"
      },
      "execution_count": null,
      "outputs": [
        {
          "output_type": "stream",
          "name": "stdout",
          "text": [
            "2\n"
          ]
        }
      ]
    },
    {
      "cell_type": "code",
      "source": [
        "# 3 dim\n",
        "threedim=np.array([[[1,2],[3,4]],[[2,3],[5,6]]])\n",
        "print(threedim)\n",
        "print(threedim.ndim)"
      ],
      "metadata": {
        "colab": {
          "base_uri": "https://localhost:8080/"
        },
        "id": "lgzAyP8VMX1s",
        "outputId": "aed6a8eb-222b-4360-80cb-636e0c64ee4a"
      },
      "execution_count": null,
      "outputs": [
        {
          "output_type": "stream",
          "name": "stdout",
          "text": [
            "[[[1 2]\n",
            "  [3 4]]\n",
            "\n",
            " [[2 3]\n",
            "  [5 6]]]\n",
            "3\n"
          ]
        }
      ]
    },
    {
      "cell_type": "code",
      "source": [
        "#getting shape using .shape\n",
        "threedim.shape\n"
      ],
      "metadata": {
        "colab": {
          "base_uri": "https://localhost:8080/"
        },
        "id": "tXFE9brTqdc4",
        "outputId": "cf381f62-a127-4cd3-9b28-9bd6e941f3d4"
      },
      "execution_count": null,
      "outputs": [
        {
          "output_type": "execute_result",
          "data": {
            "text/plain": [
              "(2, 2, 2)"
            ]
          },
          "metadata": {},
          "execution_count": 86
        }
      ]
    },
    {
      "cell_type": "code",
      "source": [
        "twodim.shape"
      ],
      "metadata": {
        "colab": {
          "base_uri": "https://localhost:8080/"
        },
        "id": "gIrbtINkMzQc",
        "outputId": "53d86d63-7022-4ca1-fe75-cd6030f5bc8d"
      },
      "execution_count": null,
      "outputs": [
        {
          "output_type": "execute_result",
          "data": {
            "text/plain": [
              "(3, 3)"
            ]
          },
          "metadata": {},
          "execution_count": 87
        }
      ]
    },
    {
      "cell_type": "code",
      "source": [
        "#getting size of numpy array using .size (specifies no of elements)\n",
        "twodim.size\n"
      ],
      "metadata": {
        "colab": {
          "base_uri": "https://localhost:8080/"
        },
        "id": "efu1ApXaqo3Y",
        "outputId": "801cb649-93b4-4d1a-b542-2f5ab16c923b"
      },
      "execution_count": null,
      "outputs": [
        {
          "output_type": "execute_result",
          "data": {
            "text/plain": [
              "9"
            ]
          },
          "metadata": {},
          "execution_count": 88
        }
      ]
    },
    {
      "cell_type": "markdown",
      "source": [
        "performing element wise operations on arrays"
      ],
      "metadata": {
        "id": "ArMppx1PrvSI"
      }
    },
    {
      "cell_type": "code",
      "source": [
        "#performing arithmetic operations on one or two np arrays\n",
        "\n",
        "x=np.array([1,2,3,4])\n",
        "y=np.array([4,5,6,7])\n",
        "\n",
        "print('x',x)\n",
        "print('y',y)\n",
        "print('x+y',x+y)\n",
        "print('x*y',x*y)\n",
        "\n",
        "\n"
      ],
      "metadata": {
        "colab": {
          "base_uri": "https://localhost:8080/"
        },
        "id": "tcHa-TjMq3LO",
        "outputId": "d4951f02-49c4-4d40-d7cd-01c643c24377"
      },
      "execution_count": null,
      "outputs": [
        {
          "output_type": "stream",
          "name": "stdout",
          "text": [
            "x [1 2 3 4]\n",
            "y [4 5 6 7]\n",
            "x+y [ 5  7  9 11]\n",
            "x*y [ 4 10 18 28]\n"
          ]
        }
      ]
    },
    {
      "cell_type": "markdown",
      "source": [
        "Indexing and slicing for accessing elements from arrays"
      ],
      "metadata": {
        "id": "-mflvAGItCpp"
      }
    },
    {
      "cell_type": "code",
      "source": [
        "# get a specific element using array[row, column]\n",
        "\n",
        "print(twodim)\n",
        "print(twodim[2,2])\n"
      ],
      "metadata": {
        "colab": {
          "base_uri": "https://localhost:8080/"
        },
        "id": "iqndP2DBsWgm",
        "outputId": "58c46c33-b8bf-42d4-fd12-4798712cc7a7"
      },
      "execution_count": null,
      "outputs": [
        {
          "output_type": "stream",
          "name": "stdout",
          "text": [
            "[[1 2 3]\n",
            " [1 2 3]\n",
            " [4 5 6]]\n",
            "6\n"
          ]
        }
      ]
    },
    {
      "cell_type": "code",
      "source": [
        "# getting a  specific row and column[all row=: , all columns=:]\n",
        "print('row')\n",
        "print(twodim[1,:])\n",
        "\n",
        "print('column')\n",
        "print(twodim[:,0])\n"
      ],
      "metadata": {
        "colab": {
          "base_uri": "https://localhost:8080/"
        },
        "id": "mNtzSIMxtkWy",
        "outputId": "b0097e16-cf39-4ae5-f740-81c26f6d1ca7"
      },
      "execution_count": null,
      "outputs": [
        {
          "output_type": "stream",
          "name": "stdout",
          "text": [
            "row\n",
            "[1 2 3]\n",
            "column\n",
            "[1 1 4]\n"
          ]
        }
      ]
    },
    {
      "cell_type": "code",
      "source": [
        "# if you want to grab specific part of a row - [ row, start_ix,end_ix,stepsize]\n",
        "\n",
        "print('grabbing 5, 6')\n",
        "print(twodim[2,1:])\n"
      ],
      "metadata": {
        "colab": {
          "base_uri": "https://localhost:8080/"
        },
        "id": "WI_zFrBGuGKs",
        "outputId": "74c3a027-44ac-40c7-99b3-102ce2e8a1c2"
      },
      "execution_count": null,
      "outputs": [
        {
          "output_type": "stream",
          "name": "stdout",
          "text": [
            "grabbing 5, 6\n",
            "[5 6]\n"
          ]
        }
      ]
    },
    {
      "cell_type": "markdown",
      "source": [
        "changine/replacing elements in a array"
      ],
      "metadata": {
        "id": "EML4h2uAymdV"
      }
    },
    {
      "cell_type": "code",
      "source": [
        "# changing elements in the array\n",
        "\n",
        "array2=np.array([1,2,3])\n",
        "print(array2)\n",
        "array2[1]=20\n",
        "print(array2)"
      ],
      "metadata": {
        "colab": {
          "base_uri": "https://localhost:8080/"
        },
        "id": "Xse1xs1rvY5U",
        "outputId": "b46aaf1f-75a1-4302-dce1-a5eca00c305c"
      },
      "execution_count": null,
      "outputs": [
        {
          "output_type": "stream",
          "name": "stdout",
          "text": [
            "[1 2 3]\n",
            "[ 1 20  3]\n"
          ]
        }
      ]
    },
    {
      "cell_type": "code",
      "source": [
        "#define 3 d array and change the elements\n",
        "\n",
        "threedim=np.array([[[1,2],[3,4]],[[2,3],[5,6]]])\n",
        "print(threedim)\n",
        "\n",
        "threedim[1,1,1]=60\n",
        "\n",
        "print(threedim)\n",
        "print(threedim.ndim)"
      ],
      "metadata": {
        "colab": {
          "base_uri": "https://localhost:8080/"
        },
        "id": "hapdn8MCv5Tp",
        "outputId": "dac27dfa-bf67-4a69-c5e6-f2980bf41dfc"
      },
      "execution_count": null,
      "outputs": [
        {
          "output_type": "stream",
          "name": "stdout",
          "text": [
            "[[[1 2]\n",
            "  [3 4]]\n",
            "\n",
            " [[2 3]\n",
            "  [5 6]]]\n",
            "[[[ 1  2]\n",
            "  [ 3  4]]\n",
            "\n",
            " [[ 2  3]\n",
            "  [ 5 60]]]\n",
            "3\n"
          ]
        }
      ]
    },
    {
      "cell_type": "markdown",
      "source": [
        "using built-in functions in numpy to create the ndarrays"
      ],
      "metadata": {
        "id": "ogTZ9pUZ5NlX"
      }
    },
    {
      "cell_type": "code",
      "source": [
        "#using zeros()\n",
        "zeroess= np.zeros((5,5))\n",
        "print(zeroess)"
      ],
      "metadata": {
        "colab": {
          "base_uri": "https://localhost:8080/"
        },
        "id": "nLKSQIDKzM2m",
        "outputId": "58711297-67fa-4228-c3da-8b269a5a85c8"
      },
      "execution_count": null,
      "outputs": [
        {
          "output_type": "stream",
          "name": "stdout",
          "text": [
            "[[0. 0. 0. 0. 0.]\n",
            " [0. 0. 0. 0. 0.]\n",
            " [0. 0. 0. 0. 0.]\n",
            " [0. 0. 0. 0. 0.]\n",
            " [0. 0. 0. 0. 0.]]\n"
          ]
        }
      ]
    },
    {
      "cell_type": "code",
      "source": [
        "#using ones()\n",
        "ones=np.ones((3,3),dtype=int)\n",
        "print(ones)"
      ],
      "metadata": {
        "colab": {
          "base_uri": "https://localhost:8080/"
        },
        "id": "wrOoxmZm5X4M",
        "outputId": "98f38a5e-9ca5-486e-8641-6cf2370a3b29"
      },
      "execution_count": null,
      "outputs": [
        {
          "output_type": "stream",
          "name": "stdout",
          "text": [
            "[[1 1 1]\n",
            " [1 1 1]\n",
            " [1 1 1]]\n"
          ]
        }
      ]
    },
    {
      "cell_type": "code",
      "source": [
        "#using full(shape,num_to_be_filled)\n",
        "usingfull=np.full((2,2),9)\n",
        "print(usingfull)"
      ],
      "metadata": {
        "colab": {
          "base_uri": "https://localhost:8080/"
        },
        "id": "QRM2bofx5tJM",
        "outputId": "78461ab7-6502-4bcd-aaef-0b73c2a904e0"
      },
      "execution_count": null,
      "outputs": [
        {
          "output_type": "stream",
          "name": "stdout",
          "text": [
            "[[9 9]\n",
            " [9 9]]\n"
          ]
        }
      ]
    },
    {
      "cell_type": "code",
      "source": [
        "# using .identity(number)\n",
        "iden=np.identity(6)\n",
        "print(iden)"
      ],
      "metadata": {
        "colab": {
          "base_uri": "https://localhost:8080/"
        },
        "id": "GqA7GYFf55JJ",
        "outputId": "9c4de0ed-a8a6-4ab1-c0f8-a203367b35d1"
      },
      "execution_count": null,
      "outputs": [
        {
          "output_type": "stream",
          "name": "stdout",
          "text": [
            "[[1. 0. 0. 0. 0. 0.]\n",
            " [0. 1. 0. 0. 0. 0.]\n",
            " [0. 0. 1. 0. 0. 0.]\n",
            " [0. 0. 0. 1. 0. 0.]\n",
            " [0. 0. 0. 0. 1. 0.]\n",
            " [0. 0. 0. 0. 0. 1.]]\n"
          ]
        }
      ]
    },
    {
      "cell_type": "code",
      "source": [
        "#using random.rand(shape) - uniform distribution between [0,1]\n",
        "usingrand=np.random.rand(9)\n",
        "print(usingrand)"
      ],
      "metadata": {
        "colab": {
          "base_uri": "https://localhost:8080/"
        },
        "id": "TlBrW4Pw6G53",
        "outputId": "bb1fe58d-e5e0-45f3-fd6e-d687cb3a4fd7"
      },
      "execution_count": null,
      "outputs": [
        {
          "output_type": "stream",
          "name": "stdout",
          "text": [
            "[0.11866718 0.45291352 0.97724316 0.28003181 0.03120855 0.03788613\n",
            " 0.75532145 0.81209211 0.16406161]\n"
          ]
        }
      ]
    },
    {
      "cell_type": "code",
      "source": [
        "# using random.randint(startvalue,endvalue, size=())\n",
        "usingrandint=np.random.randint(-5,5,(10))\n",
        "print(usingrandint)"
      ],
      "metadata": {
        "colab": {
          "base_uri": "https://localhost:8080/"
        },
        "id": "SyjE6hlO6ptx",
        "outputId": "6f589f69-16a3-4cd2-c675-30e2d9ef5338"
      },
      "execution_count": null,
      "outputs": [
        {
          "output_type": "stream",
          "name": "stdout",
          "text": [
            "[ 2 -1 -1 -5  4  0 -3  3 -1  2]\n"
          ]
        }
      ]
    },
    {
      "cell_type": "code",
      "source": [
        "# using np.linspace(start,end,size) -start,end -inclusive , size-specifies n equally spaced samples b/w start, end\n",
        "using_linspace=np.linspace(1,7,15)\n",
        "print(using_linspace)"
      ],
      "metadata": {
        "id": "Vibqtg3d-P-9"
      },
      "execution_count": null,
      "outputs": []
    },
    {
      "cell_type": "markdown",
      "source": [
        "Mathematic calculations using numpy"
      ],
      "metadata": {
        "id": "znlapBWV78Av"
      }
    },
    {
      "cell_type": "code",
      "source": [
        "# np.power(array,power) to get power of a numbers in a array\n",
        "x=np.linspace(1,8,4)\n",
        "\n",
        "print('x',x)\n",
        "print('power of x',np.power(x,2))\n",
        "#np.abs\n",
        "y=np.linspace(-1,-9,4)\n",
        "print(y)\n",
        "print('absolute',np.abs(y))\n",
        "#np.sqrt\n",
        "print('sqrt',np.sqrt(x))\n",
        "\n",
        "#np.sort\n",
        "unsorted=np.random.randint(-3,7,4)\n",
        "print('unsorted',unsorted)\n",
        "print('sorted',np.sort(unsorted))"
      ],
      "metadata": {
        "colab": {
          "base_uri": "https://localhost:8080/"
        },
        "id": "OFhwaJjQ7Omv",
        "outputId": "c1407677-2a01-422b-f733-1533471013cd"
      },
      "execution_count": null,
      "outputs": [
        {
          "output_type": "stream",
          "name": "stdout",
          "text": [
            "x [1.         3.33333333 5.66666667 8.        ]\n",
            "power of x [ 1.         11.11111111 32.11111111 64.        ]\n",
            "[-1.         -3.66666667 -6.33333333 -9.        ]\n",
            "absolute [1.         3.66666667 6.33333333 9.        ]\n",
            "sqrt [1.         1.82574186 2.38047614 2.82842712]\n",
            "unsorted [-2  4  5 -3]\n",
            "sorted [-3 -2  4  5]\n"
          ]
        }
      ]
    },
    {
      "cell_type": "code",
      "source": [
        "# np.min , max , mean, std, sum\n",
        "\n",
        "x=np.linspace(1,8,4)\n",
        "print('x',x)\n",
        "print('min',np.min(x))\n",
        "print('max',np.max(x))\n",
        "print('mean',np.mean(x))\n",
        "print('std',np.std(x))\n",
        "print('sum',np.sum(x))"
      ],
      "metadata": {
        "colab": {
          "base_uri": "https://localhost:8080/"
        },
        "id": "Gwh3J-J695xw",
        "outputId": "11f72a56-438b-4ea0-9e40-52176e3edfae"
      },
      "execution_count": null,
      "outputs": [
        {
          "output_type": "stream",
          "name": "stdout",
          "text": [
            "x [1.         3.33333333 5.66666667 8.        ]\n",
            "min 1.0\n",
            "max 8.0\n",
            "mean 4.5\n",
            "std 2.6087459737497545\n",
            "sum 18.0\n"
          ]
        }
      ]
    },
    {
      "cell_type": "code",
      "source": [
        "# for element wise operations between two arrays use maximum(x,y),add(x,y), subtract(x,y), etc..\n",
        "x=np.linspace(1,8,4)\n",
        "y=np.linspace(-1,-9,4)\n",
        "\n",
        "print('maximum',np.maximum(x,y))\n",
        "print('add',np.add(x,y))\n",
        "print('sub',np.subtract(x,y))\n"
      ],
      "metadata": {
        "colab": {
          "base_uri": "https://localhost:8080/"
        },
        "id": "z4imsWPT_VuQ",
        "outputId": "da0754f5-2a58-4093-b4f3-dcaf00fdaa51"
      },
      "execution_count": null,
      "outputs": [
        {
          "output_type": "stream",
          "name": "stdout",
          "text": [
            "maximum [1.         3.33333333 5.66666667 8.        ]\n",
            "add [ 0.         -0.33333333 -0.66666667 -1.        ]\n",
            "sub [ 2.  7. 12. 17.]\n"
          ]
        }
      ]
    },
    {
      "cell_type": "markdown",
      "source": [
        " For more such math functions refer to  https://numpy.org/doc/1.26/user/numpy-for-matlab-users.html"
      ],
      "metadata": {
        "id": "mijZdYLp8Wt-"
      }
    },
    {
      "cell_type": "markdown",
      "source": [
        "Numpy Linear algebra"
      ],
      "metadata": {
        "id": "BBXnBPeOALDu"
      }
    },
    {
      "cell_type": "code",
      "source": [
        "#matrix multiplication np.matmul(a,b) -mxn nxo =mxo\n",
        "mat1=np.linspace(1,10,6).reshape(2,3)\n",
        "mat2=np.linspace(10,20,6).reshape(3,2)\n",
        "mult=np.matmul(mat1,mat2)\n",
        "print('mat1',mat1)\n",
        "print('mat2',mat2)\n",
        "print(mult)"
      ],
      "metadata": {
        "colab": {
          "base_uri": "https://localhost:8080/"
        },
        "id": "hRtd3pBz_n_V",
        "outputId": "893ab3ca-e7d0-4ac1-bf27-76535ff0c314"
      },
      "execution_count": null,
      "outputs": [
        {
          "output_type": "stream",
          "name": "stdout",
          "text": [
            "mat1 [[ 1.   2.8  4.6]\n",
            " [ 6.4  8.2 10. ]]\n",
            "mat2 [[10. 12.]\n",
            " [14. 16.]\n",
            " [18. 20.]]\n",
            "[[132.  148.8]\n",
            " [358.8 408. ]]\n"
          ]
        }
      ]
    },
    {
      "cell_type": "code",
      "source": [
        "# matrix and vector multiplication X.dot(y)  - mxn nxp =mxp\n",
        "mat1=np.linspace(1,10,6).reshape(2,3)\n",
        "vect1=np.linspace(1,6,3)\n",
        "print('vect mult',mat1.dot(vect1))"
      ],
      "metadata": {
        "colab": {
          "base_uri": "https://localhost:8080/"
        },
        "id": "HM8d2rK7GWfP",
        "outputId": "cd7499f5-59cc-4e95-e9ab-2ea68b5c93b5"
      },
      "execution_count": null,
      "outputs": [
        {
          "output_type": "stream",
          "name": "stdout",
          "text": [
            "vect mult [38.4 95.1]\n"
          ]
        }
      ]
    },
    {
      "cell_type": "code",
      "source": [
        "#determinant of identity matrix using np.linalg.det()\n",
        "identi= np.identity(3)\n",
        "print('determinant',np.linalg.det(identi))"
      ],
      "metadata": {
        "colab": {
          "base_uri": "https://localhost:8080/"
        },
        "id": "Skr1PosRDoft",
        "outputId": "d3608955-b0d7-4efb-b7d3-f81383d4a076"
      },
      "execution_count": null,
      "outputs": [
        {
          "output_type": "stream",
          "name": "stdout",
          "text": [
            "determinant 1.0\n"
          ]
        }
      ]
    },
    {
      "cell_type": "code",
      "source": [
        "#matrix transpose using x.T\n",
        "mat1=np.linspace(1,10,6).reshape(2,3)\n",
        "print( mat1)\n",
        "print('\\n')\n",
        "print(mat1.T)"
      ],
      "metadata": {
        "colab": {
          "base_uri": "https://localhost:8080/"
        },
        "id": "H4zWpSdjC46Z",
        "outputId": "d52301c4-a54c-48a7-ce40-c2de4196110c"
      },
      "execution_count": null,
      "outputs": [
        {
          "output_type": "stream",
          "name": "stdout",
          "text": [
            "[[ 1.   2.8  4.6]\n",
            " [ 6.4  8.2 10. ]]\n",
            "\n",
            "\n",
            "[[ 1.   6.4]\n",
            " [ 2.8  8.2]\n",
            " [ 4.6 10. ]]\n"
          ]
        }
      ]
    },
    {
      "cell_type": "markdown",
      "source": [
        "For more such linalg functions refer to https://numpy.org/devdocs/reference/routines.linalg.html"
      ],
      "metadata": {
        "id": "pcNTI3WGCy-Z"
      }
    },
    {
      "cell_type": "markdown",
      "source": [
        "  Introdution to pandas\n",
        "\n",
        "- 2 types - series and a dataframe\n",
        "- series - is a one dimensional array\n",
        "- dataframe - it is a tabular representation similar to a spreadsheet table"
      ],
      "metadata": {
        "id": "DjmZeC_d7KZY"
      }
    },
    {
      "cell_type": "markdown",
      "source": [
        "Series\n",
        "\n",
        "-- contains one D array of values.\n",
        "\n",
        "-- can be created from a list, dictionary, and also a numpy array\n",
        "\n",
        "--can use numpy functions on pandas series"
      ],
      "metadata": {
        "id": "JPchUZpE7iES"
      }
    },
    {
      "cell_type": "code",
      "source": [
        "from pandas import Series\n",
        "a= Series([1,2,3,4,5])\n",
        "print(a)"
      ],
      "metadata": {
        "colab": {
          "base_uri": "https://localhost:8080/"
        },
        "id": "VGwXvI9M7g-S",
        "outputId": "0ca453d3-2dea-4e1f-b51c-391dfaf6df03"
      },
      "execution_count": null,
      "outputs": [
        {
          "output_type": "stream",
          "name": "stdout",
          "text": [
            "0    1\n",
            "1    2\n",
            "2    3\n",
            "3    4\n",
            "4    5\n",
            "dtype: int64\n"
          ]
        }
      ]
    },
    {
      "cell_type": "code",
      "source": [
        "import numpy as np\n",
        "b=Series(np.random.randn(6))\n",
        "print(b)"
      ],
      "metadata": {
        "colab": {
          "base_uri": "https://localhost:8080/"
        },
        "id": "hFhjs-U57-Vp",
        "outputId": "472e29fd-cb03-43f0-a7be-9acad75fd4b7"
      },
      "execution_count": null,
      "outputs": [
        {
          "output_type": "stream",
          "name": "stdout",
          "text": [
            "0   -0.587319\n",
            "1   -0.768828\n",
            "2   -0.120203\n",
            "3   -2.366651\n",
            "4   -1.120989\n",
            "5   -0.452239\n",
            "dtype: float64\n"
          ]
        }
      ]
    },
    {
      "cell_type": "code",
      "source": [
        "caps={'TX':'texas','CA':'California','FL':'Florida'}\n",
        "c=Series(caps)\n",
        "print(c)"
      ],
      "metadata": {
        "colab": {
          "base_uri": "https://localhost:8080/"
        },
        "id": "yj5iHGgI8M4L",
        "outputId": "84803fd8-9da8-4d26-a2da-d3309ff45661"
      },
      "execution_count": null,
      "outputs": [
        {
          "output_type": "stream",
          "name": "stdout",
          "text": [
            "TX         texas\n",
            "CA    California\n",
            "FL       Florida\n",
            "dtype: object\n"
          ]
        }
      ]
    },
    {
      "cell_type": "code",
      "source": [
        "print('values',a.values)\n",
        "print('index',a.index)\n",
        "print('data type',a.dtype)"
      ],
      "metadata": {
        "colab": {
          "base_uri": "https://localhost:8080/"
        },
        "id": "lAd25Rre8bR4",
        "outputId": "8d3588ee-edf9-42d1-e67b-53301808d54a"
      },
      "execution_count": null,
      "outputs": [
        {
          "output_type": "stream",
          "name": "stdout",
          "text": [
            "values [1 2 3 4 5]\n",
            "index RangeIndex(start=0, stop=5, step=1)\n",
            "data type int64\n"
          ]
        }
      ]
    },
    {
      "cell_type": "code",
      "source": [
        "#passing in custom index values\n",
        "\n",
        "a= Series([1,2,3,4,5], index=['one','two','three','four','five'])\n",
        "print(a)"
      ],
      "metadata": {
        "colab": {
          "base_uri": "https://localhost:8080/"
        },
        "id": "lApv2--M8rZC",
        "outputId": "0ce8d03a-6c5c-494d-8b31-187c5f31bf60"
      },
      "execution_count": null,
      "outputs": [
        {
          "output_type": "stream",
          "name": "stdout",
          "text": [
            "one      1\n",
            "two      2\n",
            "three    3\n",
            "four     4\n",
            "five     5\n",
            "dtype: int64\n"
          ]
        }
      ]
    },
    {
      "cell_type": "markdown",
      "source": [
        "accessing elements from the pandas series"
      ],
      "metadata": {
        "id": "zan0pyxl-Df-"
      }
    },
    {
      "cell_type": "code",
      "source": [
        "print('element 3 from series a', a[2])"
      ],
      "metadata": {
        "colab": {
          "base_uri": "https://localhost:8080/"
        },
        "id": "sb5dkXhH-AAY",
        "outputId": "145a33dd-0668-4e51-a94b-0150ceb21963"
      },
      "execution_count": null,
      "outputs": [
        {
          "output_type": "stream",
          "name": "stdout",
          "text": [
            "element 3 from series a 3\n"
          ]
        }
      ]
    },
    {
      "cell_type": "code",
      "source": [
        "print('grabbing elements 2,3,4 \\n',a.iloc[1:4])"
      ],
      "metadata": {
        "colab": {
          "base_uri": "https://localhost:8080/"
        },
        "id": "d3UUB-XJ95hY",
        "outputId": "45246119-7011-4b0c-f425-f31875ce865f"
      },
      "execution_count": null,
      "outputs": [
        {
          "output_type": "stream",
          "name": "stdout",
          "text": [
            "grabbing elements 2,3,4 \n",
            " two      2\n",
            "three    3\n",
            "four     4\n",
            "dtype: int64\n"
          ]
        }
      ]
    },
    {
      "cell_type": "markdown",
      "source": [
        "exploring shape, size and count\n"
      ],
      "metadata": {
        "id": "ipF1lIRT-jdM"
      }
    },
    {
      "cell_type": "code",
      "source": [
        "print(a)"
      ],
      "metadata": {
        "colab": {
          "base_uri": "https://localhost:8080/"
        },
        "id": "0boWaMBN-bog",
        "outputId": "9176a93a-dc97-48e2-8176-ee816938b14f"
      },
      "execution_count": null,
      "outputs": [
        {
          "output_type": "stream",
          "name": "stdout",
          "text": [
            "one      1\n",
            "two      2\n",
            "three    3\n",
            "four     4\n",
            "five     5\n",
            "dtype: int64\n"
          ]
        }
      ]
    },
    {
      "cell_type": "code",
      "source": [
        "a['six']=6"
      ],
      "metadata": {
        "id": "5OccUE96-qBr"
      },
      "execution_count": null,
      "outputs": []
    },
    {
      "cell_type": "code",
      "source": [
        "print(a)"
      ],
      "metadata": {
        "colab": {
          "base_uri": "https://localhost:8080/"
        },
        "id": "ul9amoOj-vet",
        "outputId": "7909109f-4bf7-4a23-8436-e178eb5b56ef"
      },
      "execution_count": null,
      "outputs": [
        {
          "output_type": "stream",
          "name": "stdout",
          "text": [
            "one      1\n",
            "two      2\n",
            "three    3\n",
            "four     4\n",
            "five     5\n",
            "six      6\n",
            "dtype: int64\n"
          ]
        }
      ]
    },
    {
      "cell_type": "code",
      "source": [
        "print('shape',a.shape)\n",
        "print('size',a.size)\n",
        "\n",
        "print('count',a.count())"
      ],
      "metadata": {
        "colab": {
          "base_uri": "https://localhost:8080/"
        },
        "id": "CmLbELt--wgN",
        "outputId": "cad3c698-c457-428d-dfc0-e4ed04ff9ba1"
      },
      "execution_count": null,
      "outputs": [
        {
          "output_type": "stream",
          "name": "stdout",
          "text": [
            "shape (6,)\n",
            "size 6\n",
            "count 6\n"
          ]
        }
      ]
    },
    {
      "cell_type": "code",
      "source": [
        "a['seven']=np.nan\n",
        "print('size',a.size)\n",
        "\n",
        "print('count',a.count())"
      ],
      "metadata": {
        "colab": {
          "base_uri": "https://localhost:8080/"
        },
        "id": "F8nV3WWN-0wy",
        "outputId": "f4fe2100-0af7-4ad8-cf17-6b3444dc805c"
      },
      "execution_count": null,
      "outputs": [
        {
          "output_type": "stream",
          "name": "stdout",
          "text": [
            "size 7\n",
            "count 6\n"
          ]
        }
      ]
    },
    {
      "cell_type": "code",
      "source": [
        "from pandas import Series\n",
        "salaries=Series([500,200,300,700,1100])\n",
        "\n",
        "print(salaries[salaries>300])"
      ],
      "metadata": {
        "colab": {
          "base_uri": "https://localhost:8080/"
        },
        "id": "CUVHag0N_Lj0",
        "outputId": "3ff1261c-7d12-4e51-9a8e-35cda9582ea4"
      },
      "execution_count": null,
      "outputs": [
        {
          "output_type": "stream",
          "name": "stdout",
          "text": [
            "0     500\n",
            "3     700\n",
            "4    1100\n",
            "dtype: int64\n"
          ]
        }
      ]
    },
    {
      "cell_type": "code",
      "source": [
        "#using numpy functions\n",
        "\n",
        "import numpy as np\n",
        "\n",
        "print('salaries')\n",
        "print('np.log()',np.log(salaries))\n",
        "\n"
      ],
      "metadata": {
        "colab": {
          "base_uri": "https://localhost:8080/"
        },
        "id": "lFYRq7B8e5AA",
        "outputId": "e935c0b1-6202-462a-ffe8-8601c7a172ba"
      },
      "execution_count": null,
      "outputs": [
        {
          "output_type": "stream",
          "name": "stdout",
          "text": [
            "salaries\n",
            "np.log() 0    6.214608\n",
            "1    5.298317\n",
            "2    5.703782\n",
            "3    6.551080\n",
            "4    7.003065\n",
            "dtype: float64\n"
          ]
        }
      ]
    },
    {
      "cell_type": "code",
      "source": [
        "salaries=Series([500,500,200,200,200,300,700,1100])\n",
        "\n",
        "print('salaries.value_counts()',salaries.value_counts())"
      ],
      "metadata": {
        "colab": {
          "base_uri": "https://localhost:8080/"
        },
        "id": "svfjhRLHfQ6g",
        "outputId": "a9cbddc3-7c00-4050-f2e5-4a2d509cc3b4"
      },
      "execution_count": null,
      "outputs": [
        {
          "output_type": "stream",
          "name": "stdout",
          "text": [
            "salaries.value_counts() 200     3\n",
            "500     2\n",
            "300     1\n",
            "700     1\n",
            "1100    1\n",
            "dtype: int64\n"
          ]
        }
      ]
    },
    {
      "cell_type": "markdown",
      "source": [
        "DataFrame\n",
        "\n",
        "-  tabular spreadsheet like data structure\n",
        "- the columns can be of any type\n",
        "- it has distinct row and column indices\n",
        "- it can created from list, numpy array, and a dictionary."
      ],
      "metadata": {
        "id": "4xYRWflkigaF"
      }
    },
    {
      "cell_type": "code",
      "source": [
        "#creadting df from a dict\n",
        "\n",
        "from pandas import DataFrame\n",
        "\n",
        "cars={'make':['kia','Toyota','Ford','Tesla'],\n",
        "      'model':['Forte','camry','mustang','modelX'],\n",
        "      'MSRP':[20000,25000,35000,45000]}\n",
        "\n",
        "cardata=DataFrame(cars)\n",
        "cardata"
      ],
      "metadata": {
        "colab": {
          "base_uri": "https://localhost:8080/",
          "height": 175
        },
        "id": "4MRBlvEsflSu",
        "outputId": "a1eb3d7b-faa4-4697-fc23-0474569c8645"
      },
      "execution_count": null,
      "outputs": [
        {
          "output_type": "execute_result",
          "data": {
            "text/plain": [
              "     make    model   MSRP\n",
              "0     kia    Forte  20000\n",
              "1  Toyota    camry  25000\n",
              "2    Ford  mustang  35000\n",
              "3   Tesla   modelX  45000"
            ],
            "text/html": [
              "\n",
              "  <div id=\"df-cf9b8170-44ba-47ba-aca3-5aad319da3ae\" class=\"colab-df-container\">\n",
              "    <div>\n",
              "<style scoped>\n",
              "    .dataframe tbody tr th:only-of-type {\n",
              "        vertical-align: middle;\n",
              "    }\n",
              "\n",
              "    .dataframe tbody tr th {\n",
              "        vertical-align: top;\n",
              "    }\n",
              "\n",
              "    .dataframe thead th {\n",
              "        text-align: right;\n",
              "    }\n",
              "</style>\n",
              "<table border=\"1\" class=\"dataframe\">\n",
              "  <thead>\n",
              "    <tr style=\"text-align: right;\">\n",
              "      <th></th>\n",
              "      <th>make</th>\n",
              "      <th>model</th>\n",
              "      <th>MSRP</th>\n",
              "    </tr>\n",
              "  </thead>\n",
              "  <tbody>\n",
              "    <tr>\n",
              "      <th>0</th>\n",
              "      <td>kia</td>\n",
              "      <td>Forte</td>\n",
              "      <td>20000</td>\n",
              "    </tr>\n",
              "    <tr>\n",
              "      <th>1</th>\n",
              "      <td>Toyota</td>\n",
              "      <td>camry</td>\n",
              "      <td>25000</td>\n",
              "    </tr>\n",
              "    <tr>\n",
              "      <th>2</th>\n",
              "      <td>Ford</td>\n",
              "      <td>mustang</td>\n",
              "      <td>35000</td>\n",
              "    </tr>\n",
              "    <tr>\n",
              "      <th>3</th>\n",
              "      <td>Tesla</td>\n",
              "      <td>modelX</td>\n",
              "      <td>45000</td>\n",
              "    </tr>\n",
              "  </tbody>\n",
              "</table>\n",
              "</div>\n",
              "    <div class=\"colab-df-buttons\">\n",
              "\n",
              "  <div class=\"colab-df-container\">\n",
              "    <button class=\"colab-df-convert\" onclick=\"convertToInteractive('df-cf9b8170-44ba-47ba-aca3-5aad319da3ae')\"\n",
              "            title=\"Convert this dataframe to an interactive table.\"\n",
              "            style=\"display:none;\">\n",
              "\n",
              "  <svg xmlns=\"http://www.w3.org/2000/svg\" height=\"24px\" viewBox=\"0 -960 960 960\">\n",
              "    <path d=\"M120-120v-720h720v720H120Zm60-500h600v-160H180v160Zm220 220h160v-160H400v160Zm0 220h160v-160H400v160ZM180-400h160v-160H180v160Zm440 0h160v-160H620v160ZM180-180h160v-160H180v160Zm440 0h160v-160H620v160Z\"/>\n",
              "  </svg>\n",
              "    </button>\n",
              "\n",
              "  <style>\n",
              "    .colab-df-container {\n",
              "      display:flex;\n",
              "      gap: 12px;\n",
              "    }\n",
              "\n",
              "    .colab-df-convert {\n",
              "      background-color: #E8F0FE;\n",
              "      border: none;\n",
              "      border-radius: 50%;\n",
              "      cursor: pointer;\n",
              "      display: none;\n",
              "      fill: #1967D2;\n",
              "      height: 32px;\n",
              "      padding: 0 0 0 0;\n",
              "      width: 32px;\n",
              "    }\n",
              "\n",
              "    .colab-df-convert:hover {\n",
              "      background-color: #E2EBFA;\n",
              "      box-shadow: 0px 1px 2px rgba(60, 64, 67, 0.3), 0px 1px 3px 1px rgba(60, 64, 67, 0.15);\n",
              "      fill: #174EA6;\n",
              "    }\n",
              "\n",
              "    .colab-df-buttons div {\n",
              "      margin-bottom: 4px;\n",
              "    }\n",
              "\n",
              "    [theme=dark] .colab-df-convert {\n",
              "      background-color: #3B4455;\n",
              "      fill: #D2E3FC;\n",
              "    }\n",
              "\n",
              "    [theme=dark] .colab-df-convert:hover {\n",
              "      background-color: #434B5C;\n",
              "      box-shadow: 0px 1px 3px 1px rgba(0, 0, 0, 0.15);\n",
              "      filter: drop-shadow(0px 1px 2px rgba(0, 0, 0, 0.3));\n",
              "      fill: #FFFFFF;\n",
              "    }\n",
              "  </style>\n",
              "\n",
              "    <script>\n",
              "      const buttonEl =\n",
              "        document.querySelector('#df-cf9b8170-44ba-47ba-aca3-5aad319da3ae button.colab-df-convert');\n",
              "      buttonEl.style.display =\n",
              "        google.colab.kernel.accessAllowed ? 'block' : 'none';\n",
              "\n",
              "      async function convertToInteractive(key) {\n",
              "        const element = document.querySelector('#df-cf9b8170-44ba-47ba-aca3-5aad319da3ae');\n",
              "        const dataTable =\n",
              "          await google.colab.kernel.invokeFunction('convertToInteractive',\n",
              "                                                    [key], {});\n",
              "        if (!dataTable) return;\n",
              "\n",
              "        const docLinkHtml = 'Like what you see? Visit the ' +\n",
              "          '<a target=\"_blank\" href=https://colab.research.google.com/notebooks/data_table.ipynb>data table notebook</a>'\n",
              "          + ' to learn more about interactive tables.';\n",
              "        element.innerHTML = '';\n",
              "        dataTable['output_type'] = 'display_data';\n",
              "        await google.colab.output.renderOutput(dataTable, element);\n",
              "        const docLink = document.createElement('div');\n",
              "        docLink.innerHTML = docLinkHtml;\n",
              "        element.appendChild(docLink);\n",
              "      }\n",
              "    </script>\n",
              "  </div>\n",
              "\n",
              "\n",
              "<div id=\"df-af3ebd64-baee-4ffb-bcbd-41458e5c2926\">\n",
              "  <button class=\"colab-df-quickchart\" onclick=\"quickchart('df-af3ebd64-baee-4ffb-bcbd-41458e5c2926')\"\n",
              "            title=\"Suggest charts\"\n",
              "            style=\"display:none;\">\n",
              "\n",
              "<svg xmlns=\"http://www.w3.org/2000/svg\" height=\"24px\"viewBox=\"0 0 24 24\"\n",
              "     width=\"24px\">\n",
              "    <g>\n",
              "        <path d=\"M19 3H5c-1.1 0-2 .9-2 2v14c0 1.1.9 2 2 2h14c1.1 0 2-.9 2-2V5c0-1.1-.9-2-2-2zM9 17H7v-7h2v7zm4 0h-2V7h2v10zm4 0h-2v-4h2v4z\"/>\n",
              "    </g>\n",
              "</svg>\n",
              "  </button>\n",
              "\n",
              "<style>\n",
              "  .colab-df-quickchart {\n",
              "      --bg-color: #E8F0FE;\n",
              "      --fill-color: #1967D2;\n",
              "      --hover-bg-color: #E2EBFA;\n",
              "      --hover-fill-color: #174EA6;\n",
              "      --disabled-fill-color: #AAA;\n",
              "      --disabled-bg-color: #DDD;\n",
              "  }\n",
              "\n",
              "  [theme=dark] .colab-df-quickchart {\n",
              "      --bg-color: #3B4455;\n",
              "      --fill-color: #D2E3FC;\n",
              "      --hover-bg-color: #434B5C;\n",
              "      --hover-fill-color: #FFFFFF;\n",
              "      --disabled-bg-color: #3B4455;\n",
              "      --disabled-fill-color: #666;\n",
              "  }\n",
              "\n",
              "  .colab-df-quickchart {\n",
              "    background-color: var(--bg-color);\n",
              "    border: none;\n",
              "    border-radius: 50%;\n",
              "    cursor: pointer;\n",
              "    display: none;\n",
              "    fill: var(--fill-color);\n",
              "    height: 32px;\n",
              "    padding: 0;\n",
              "    width: 32px;\n",
              "  }\n",
              "\n",
              "  .colab-df-quickchart:hover {\n",
              "    background-color: var(--hover-bg-color);\n",
              "    box-shadow: 0 1px 2px rgba(60, 64, 67, 0.3), 0 1px 3px 1px rgba(60, 64, 67, 0.15);\n",
              "    fill: var(--button-hover-fill-color);\n",
              "  }\n",
              "\n",
              "  .colab-df-quickchart-complete:disabled,\n",
              "  .colab-df-quickchart-complete:disabled:hover {\n",
              "    background-color: var(--disabled-bg-color);\n",
              "    fill: var(--disabled-fill-color);\n",
              "    box-shadow: none;\n",
              "  }\n",
              "\n",
              "  .colab-df-spinner {\n",
              "    border: 2px solid var(--fill-color);\n",
              "    border-color: transparent;\n",
              "    border-bottom-color: var(--fill-color);\n",
              "    animation:\n",
              "      spin 1s steps(1) infinite;\n",
              "  }\n",
              "\n",
              "  @keyframes spin {\n",
              "    0% {\n",
              "      border-color: transparent;\n",
              "      border-bottom-color: var(--fill-color);\n",
              "      border-left-color: var(--fill-color);\n",
              "    }\n",
              "    20% {\n",
              "      border-color: transparent;\n",
              "      border-left-color: var(--fill-color);\n",
              "      border-top-color: var(--fill-color);\n",
              "    }\n",
              "    30% {\n",
              "      border-color: transparent;\n",
              "      border-left-color: var(--fill-color);\n",
              "      border-top-color: var(--fill-color);\n",
              "      border-right-color: var(--fill-color);\n",
              "    }\n",
              "    40% {\n",
              "      border-color: transparent;\n",
              "      border-right-color: var(--fill-color);\n",
              "      border-top-color: var(--fill-color);\n",
              "    }\n",
              "    60% {\n",
              "      border-color: transparent;\n",
              "      border-right-color: var(--fill-color);\n",
              "    }\n",
              "    80% {\n",
              "      border-color: transparent;\n",
              "      border-right-color: var(--fill-color);\n",
              "      border-bottom-color: var(--fill-color);\n",
              "    }\n",
              "    90% {\n",
              "      border-color: transparent;\n",
              "      border-bottom-color: var(--fill-color);\n",
              "    }\n",
              "  }\n",
              "</style>\n",
              "\n",
              "  <script>\n",
              "    async function quickchart(key) {\n",
              "      const quickchartButtonEl =\n",
              "        document.querySelector('#' + key + ' button');\n",
              "      quickchartButtonEl.disabled = true;  // To prevent multiple clicks.\n",
              "      quickchartButtonEl.classList.add('colab-df-spinner');\n",
              "      try {\n",
              "        const charts = await google.colab.kernel.invokeFunction(\n",
              "            'suggestCharts', [key], {});\n",
              "      } catch (error) {\n",
              "        console.error('Error during call to suggestCharts:', error);\n",
              "      }\n",
              "      quickchartButtonEl.classList.remove('colab-df-spinner');\n",
              "      quickchartButtonEl.classList.add('colab-df-quickchart-complete');\n",
              "    }\n",
              "    (() => {\n",
              "      let quickchartButtonEl =\n",
              "        document.querySelector('#df-af3ebd64-baee-4ffb-bcbd-41458e5c2926 button');\n",
              "      quickchartButtonEl.style.display =\n",
              "        google.colab.kernel.accessAllowed ? 'block' : 'none';\n",
              "    })();\n",
              "  </script>\n",
              "</div>\n",
              "\n",
              "  <div id=\"id_92db15dd-cfe1-4d8e-bbe9-2d413daea6a8\">\n",
              "    <style>\n",
              "      .colab-df-generate {\n",
              "        background-color: #E8F0FE;\n",
              "        border: none;\n",
              "        border-radius: 50%;\n",
              "        cursor: pointer;\n",
              "        display: none;\n",
              "        fill: #1967D2;\n",
              "        height: 32px;\n",
              "        padding: 0 0 0 0;\n",
              "        width: 32px;\n",
              "      }\n",
              "\n",
              "      .colab-df-generate:hover {\n",
              "        background-color: #E2EBFA;\n",
              "        box-shadow: 0px 1px 2px rgba(60, 64, 67, 0.3), 0px 1px 3px 1px rgba(60, 64, 67, 0.15);\n",
              "        fill: #174EA6;\n",
              "      }\n",
              "\n",
              "      [theme=dark] .colab-df-generate {\n",
              "        background-color: #3B4455;\n",
              "        fill: #D2E3FC;\n",
              "      }\n",
              "\n",
              "      [theme=dark] .colab-df-generate:hover {\n",
              "        background-color: #434B5C;\n",
              "        box-shadow: 0px 1px 3px 1px rgba(0, 0, 0, 0.15);\n",
              "        filter: drop-shadow(0px 1px 2px rgba(0, 0, 0, 0.3));\n",
              "        fill: #FFFFFF;\n",
              "      }\n",
              "    </style>\n",
              "    <button class=\"colab-df-generate\" onclick=\"generateWithVariable('cardata')\"\n",
              "            title=\"Generate code using this dataframe.\"\n",
              "            style=\"display:none;\">\n",
              "\n",
              "  <svg xmlns=\"http://www.w3.org/2000/svg\" height=\"24px\"viewBox=\"0 0 24 24\"\n",
              "       width=\"24px\">\n",
              "    <path d=\"M7,19H8.4L18.45,9,17,7.55,7,17.6ZM5,21V16.75L18.45,3.32a2,2,0,0,1,2.83,0l1.4,1.43a1.91,1.91,0,0,1,.58,1.4,1.91,1.91,0,0,1-.58,1.4L9.25,21ZM18.45,9,17,7.55Zm-12,3A5.31,5.31,0,0,0,4.9,8.1,5.31,5.31,0,0,0,1,6.5,5.31,5.31,0,0,0,4.9,4.9,5.31,5.31,0,0,0,6.5,1,5.31,5.31,0,0,0,8.1,4.9,5.31,5.31,0,0,0,12,6.5,5.46,5.46,0,0,0,6.5,12Z\"/>\n",
              "  </svg>\n",
              "    </button>\n",
              "    <script>\n",
              "      (() => {\n",
              "      const buttonEl =\n",
              "        document.querySelector('#id_92db15dd-cfe1-4d8e-bbe9-2d413daea6a8 button.colab-df-generate');\n",
              "      buttonEl.style.display =\n",
              "        google.colab.kernel.accessAllowed ? 'block' : 'none';\n",
              "\n",
              "      buttonEl.onclick = () => {\n",
              "        google.colab.notebook.generateWithVariable('cardata');\n",
              "      }\n",
              "      })();\n",
              "    </script>\n",
              "  </div>\n",
              "\n",
              "    </div>\n",
              "  </div>\n"
            ]
          },
          "metadata": {},
          "execution_count": 7
        }
      ]
    },
    {
      "cell_type": "code",
      "source": [
        "print('row indices',cardata.index)\n",
        "print('column indices',cardata.columns)"
      ],
      "metadata": {
        "colab": {
          "base_uri": "https://localhost:8080/"
        },
        "id": "iE7DVv6LjRBL",
        "outputId": "193c3640-a9b1-4932-d0bf-0c31a19b6bfa"
      },
      "execution_count": null,
      "outputs": [
        {
          "output_type": "stream",
          "name": "stdout",
          "text": [
            "row indices RangeIndex(start=0, stop=4, step=1)\n",
            "column indices Index(['make', 'model', 'MSRP'], dtype='object')\n"
          ]
        }
      ]
    },
    {
      "cell_type": "code",
      "source": [
        "cardata1=DataFrame(cars,index=[1,2,3,4])\n",
        "cardata1['year']=[2019,2022,2022,2023]\n",
        "cardata1['dealership']=['hiley','dondavis','parkplace','carmax']\n",
        "cardata1"
      ],
      "metadata": {
        "colab": {
          "base_uri": "https://localhost:8080/",
          "height": 175
        },
        "id": "qN163mqOjh8Z",
        "outputId": "806c8e8e-8e2d-4136-9d6b-adf59416cf97"
      },
      "execution_count": null,
      "outputs": [
        {
          "output_type": "execute_result",
          "data": {
            "text/plain": [
              "     make    model   MSRP  year dealership\n",
              "1     kia    Forte  20000  2019      hiley\n",
              "2  Toyota    camry  25000  2022   dondavis\n",
              "3    Ford  mustang  35000  2022  parkplace\n",
              "4   Tesla   modelX  45000  2023     carmax"
            ],
            "text/html": [
              "\n",
              "  <div id=\"df-8c0168ab-f865-4c73-93f2-8a7d41600d72\" class=\"colab-df-container\">\n",
              "    <div>\n",
              "<style scoped>\n",
              "    .dataframe tbody tr th:only-of-type {\n",
              "        vertical-align: middle;\n",
              "    }\n",
              "\n",
              "    .dataframe tbody tr th {\n",
              "        vertical-align: top;\n",
              "    }\n",
              "\n",
              "    .dataframe thead th {\n",
              "        text-align: right;\n",
              "    }\n",
              "</style>\n",
              "<table border=\"1\" class=\"dataframe\">\n",
              "  <thead>\n",
              "    <tr style=\"text-align: right;\">\n",
              "      <th></th>\n",
              "      <th>make</th>\n",
              "      <th>model</th>\n",
              "      <th>MSRP</th>\n",
              "      <th>year</th>\n",
              "      <th>dealership</th>\n",
              "    </tr>\n",
              "  </thead>\n",
              "  <tbody>\n",
              "    <tr>\n",
              "      <th>1</th>\n",
              "      <td>kia</td>\n",
              "      <td>Forte</td>\n",
              "      <td>20000</td>\n",
              "      <td>2019</td>\n",
              "      <td>hiley</td>\n",
              "    </tr>\n",
              "    <tr>\n",
              "      <th>2</th>\n",
              "      <td>Toyota</td>\n",
              "      <td>camry</td>\n",
              "      <td>25000</td>\n",
              "      <td>2022</td>\n",
              "      <td>dondavis</td>\n",
              "    </tr>\n",
              "    <tr>\n",
              "      <th>3</th>\n",
              "      <td>Ford</td>\n",
              "      <td>mustang</td>\n",
              "      <td>35000</td>\n",
              "      <td>2022</td>\n",
              "      <td>parkplace</td>\n",
              "    </tr>\n",
              "    <tr>\n",
              "      <th>4</th>\n",
              "      <td>Tesla</td>\n",
              "      <td>modelX</td>\n",
              "      <td>45000</td>\n",
              "      <td>2023</td>\n",
              "      <td>carmax</td>\n",
              "    </tr>\n",
              "  </tbody>\n",
              "</table>\n",
              "</div>\n",
              "    <div class=\"colab-df-buttons\">\n",
              "\n",
              "  <div class=\"colab-df-container\">\n",
              "    <button class=\"colab-df-convert\" onclick=\"convertToInteractive('df-8c0168ab-f865-4c73-93f2-8a7d41600d72')\"\n",
              "            title=\"Convert this dataframe to an interactive table.\"\n",
              "            style=\"display:none;\">\n",
              "\n",
              "  <svg xmlns=\"http://www.w3.org/2000/svg\" height=\"24px\" viewBox=\"0 -960 960 960\">\n",
              "    <path d=\"M120-120v-720h720v720H120Zm60-500h600v-160H180v160Zm220 220h160v-160H400v160Zm0 220h160v-160H400v160ZM180-400h160v-160H180v160Zm440 0h160v-160H620v160ZM180-180h160v-160H180v160Zm440 0h160v-160H620v160Z\"/>\n",
              "  </svg>\n",
              "    </button>\n",
              "\n",
              "  <style>\n",
              "    .colab-df-container {\n",
              "      display:flex;\n",
              "      gap: 12px;\n",
              "    }\n",
              "\n",
              "    .colab-df-convert {\n",
              "      background-color: #E8F0FE;\n",
              "      border: none;\n",
              "      border-radius: 50%;\n",
              "      cursor: pointer;\n",
              "      display: none;\n",
              "      fill: #1967D2;\n",
              "      height: 32px;\n",
              "      padding: 0 0 0 0;\n",
              "      width: 32px;\n",
              "    }\n",
              "\n",
              "    .colab-df-convert:hover {\n",
              "      background-color: #E2EBFA;\n",
              "      box-shadow: 0px 1px 2px rgba(60, 64, 67, 0.3), 0px 1px 3px 1px rgba(60, 64, 67, 0.15);\n",
              "      fill: #174EA6;\n",
              "    }\n",
              "\n",
              "    .colab-df-buttons div {\n",
              "      margin-bottom: 4px;\n",
              "    }\n",
              "\n",
              "    [theme=dark] .colab-df-convert {\n",
              "      background-color: #3B4455;\n",
              "      fill: #D2E3FC;\n",
              "    }\n",
              "\n",
              "    [theme=dark] .colab-df-convert:hover {\n",
              "      background-color: #434B5C;\n",
              "      box-shadow: 0px 1px 3px 1px rgba(0, 0, 0, 0.15);\n",
              "      filter: drop-shadow(0px 1px 2px rgba(0, 0, 0, 0.3));\n",
              "      fill: #FFFFFF;\n",
              "    }\n",
              "  </style>\n",
              "\n",
              "    <script>\n",
              "      const buttonEl =\n",
              "        document.querySelector('#df-8c0168ab-f865-4c73-93f2-8a7d41600d72 button.colab-df-convert');\n",
              "      buttonEl.style.display =\n",
              "        google.colab.kernel.accessAllowed ? 'block' : 'none';\n",
              "\n",
              "      async function convertToInteractive(key) {\n",
              "        const element = document.querySelector('#df-8c0168ab-f865-4c73-93f2-8a7d41600d72');\n",
              "        const dataTable =\n",
              "          await google.colab.kernel.invokeFunction('convertToInteractive',\n",
              "                                                    [key], {});\n",
              "        if (!dataTable) return;\n",
              "\n",
              "        const docLinkHtml = 'Like what you see? Visit the ' +\n",
              "          '<a target=\"_blank\" href=https://colab.research.google.com/notebooks/data_table.ipynb>data table notebook</a>'\n",
              "          + ' to learn more about interactive tables.';\n",
              "        element.innerHTML = '';\n",
              "        dataTable['output_type'] = 'display_data';\n",
              "        await google.colab.output.renderOutput(dataTable, element);\n",
              "        const docLink = document.createElement('div');\n",
              "        docLink.innerHTML = docLinkHtml;\n",
              "        element.appendChild(docLink);\n",
              "      }\n",
              "    </script>\n",
              "  </div>\n",
              "\n",
              "\n",
              "<div id=\"df-4d6da782-ee19-4ff7-b774-62d3934fd20c\">\n",
              "  <button class=\"colab-df-quickchart\" onclick=\"quickchart('df-4d6da782-ee19-4ff7-b774-62d3934fd20c')\"\n",
              "            title=\"Suggest charts\"\n",
              "            style=\"display:none;\">\n",
              "\n",
              "<svg xmlns=\"http://www.w3.org/2000/svg\" height=\"24px\"viewBox=\"0 0 24 24\"\n",
              "     width=\"24px\">\n",
              "    <g>\n",
              "        <path d=\"M19 3H5c-1.1 0-2 .9-2 2v14c0 1.1.9 2 2 2h14c1.1 0 2-.9 2-2V5c0-1.1-.9-2-2-2zM9 17H7v-7h2v7zm4 0h-2V7h2v10zm4 0h-2v-4h2v4z\"/>\n",
              "    </g>\n",
              "</svg>\n",
              "  </button>\n",
              "\n",
              "<style>\n",
              "  .colab-df-quickchart {\n",
              "      --bg-color: #E8F0FE;\n",
              "      --fill-color: #1967D2;\n",
              "      --hover-bg-color: #E2EBFA;\n",
              "      --hover-fill-color: #174EA6;\n",
              "      --disabled-fill-color: #AAA;\n",
              "      --disabled-bg-color: #DDD;\n",
              "  }\n",
              "\n",
              "  [theme=dark] .colab-df-quickchart {\n",
              "      --bg-color: #3B4455;\n",
              "      --fill-color: #D2E3FC;\n",
              "      --hover-bg-color: #434B5C;\n",
              "      --hover-fill-color: #FFFFFF;\n",
              "      --disabled-bg-color: #3B4455;\n",
              "      --disabled-fill-color: #666;\n",
              "  }\n",
              "\n",
              "  .colab-df-quickchart {\n",
              "    background-color: var(--bg-color);\n",
              "    border: none;\n",
              "    border-radius: 50%;\n",
              "    cursor: pointer;\n",
              "    display: none;\n",
              "    fill: var(--fill-color);\n",
              "    height: 32px;\n",
              "    padding: 0;\n",
              "    width: 32px;\n",
              "  }\n",
              "\n",
              "  .colab-df-quickchart:hover {\n",
              "    background-color: var(--hover-bg-color);\n",
              "    box-shadow: 0 1px 2px rgba(60, 64, 67, 0.3), 0 1px 3px 1px rgba(60, 64, 67, 0.15);\n",
              "    fill: var(--button-hover-fill-color);\n",
              "  }\n",
              "\n",
              "  .colab-df-quickchart-complete:disabled,\n",
              "  .colab-df-quickchart-complete:disabled:hover {\n",
              "    background-color: var(--disabled-bg-color);\n",
              "    fill: var(--disabled-fill-color);\n",
              "    box-shadow: none;\n",
              "  }\n",
              "\n",
              "  .colab-df-spinner {\n",
              "    border: 2px solid var(--fill-color);\n",
              "    border-color: transparent;\n",
              "    border-bottom-color: var(--fill-color);\n",
              "    animation:\n",
              "      spin 1s steps(1) infinite;\n",
              "  }\n",
              "\n",
              "  @keyframes spin {\n",
              "    0% {\n",
              "      border-color: transparent;\n",
              "      border-bottom-color: var(--fill-color);\n",
              "      border-left-color: var(--fill-color);\n",
              "    }\n",
              "    20% {\n",
              "      border-color: transparent;\n",
              "      border-left-color: var(--fill-color);\n",
              "      border-top-color: var(--fill-color);\n",
              "    }\n",
              "    30% {\n",
              "      border-color: transparent;\n",
              "      border-left-color: var(--fill-color);\n",
              "      border-top-color: var(--fill-color);\n",
              "      border-right-color: var(--fill-color);\n",
              "    }\n",
              "    40% {\n",
              "      border-color: transparent;\n",
              "      border-right-color: var(--fill-color);\n",
              "      border-top-color: var(--fill-color);\n",
              "    }\n",
              "    60% {\n",
              "      border-color: transparent;\n",
              "      border-right-color: var(--fill-color);\n",
              "    }\n",
              "    80% {\n",
              "      border-color: transparent;\n",
              "      border-right-color: var(--fill-color);\n",
              "      border-bottom-color: var(--fill-color);\n",
              "    }\n",
              "    90% {\n",
              "      border-color: transparent;\n",
              "      border-bottom-color: var(--fill-color);\n",
              "    }\n",
              "  }\n",
              "</style>\n",
              "\n",
              "  <script>\n",
              "    async function quickchart(key) {\n",
              "      const quickchartButtonEl =\n",
              "        document.querySelector('#' + key + ' button');\n",
              "      quickchartButtonEl.disabled = true;  // To prevent multiple clicks.\n",
              "      quickchartButtonEl.classList.add('colab-df-spinner');\n",
              "      try {\n",
              "        const charts = await google.colab.kernel.invokeFunction(\n",
              "            'suggestCharts', [key], {});\n",
              "      } catch (error) {\n",
              "        console.error('Error during call to suggestCharts:', error);\n",
              "      }\n",
              "      quickchartButtonEl.classList.remove('colab-df-spinner');\n",
              "      quickchartButtonEl.classList.add('colab-df-quickchart-complete');\n",
              "    }\n",
              "    (() => {\n",
              "      let quickchartButtonEl =\n",
              "        document.querySelector('#df-4d6da782-ee19-4ff7-b774-62d3934fd20c button');\n",
              "      quickchartButtonEl.style.display =\n",
              "        google.colab.kernel.accessAllowed ? 'block' : 'none';\n",
              "    })();\n",
              "  </script>\n",
              "</div>\n",
              "\n",
              "  <div id=\"id_e13c864f-debc-4470-8f44-34647baf4d07\">\n",
              "    <style>\n",
              "      .colab-df-generate {\n",
              "        background-color: #E8F0FE;\n",
              "        border: none;\n",
              "        border-radius: 50%;\n",
              "        cursor: pointer;\n",
              "        display: none;\n",
              "        fill: #1967D2;\n",
              "        height: 32px;\n",
              "        padding: 0 0 0 0;\n",
              "        width: 32px;\n",
              "      }\n",
              "\n",
              "      .colab-df-generate:hover {\n",
              "        background-color: #E2EBFA;\n",
              "        box-shadow: 0px 1px 2px rgba(60, 64, 67, 0.3), 0px 1px 3px 1px rgba(60, 64, 67, 0.15);\n",
              "        fill: #174EA6;\n",
              "      }\n",
              "\n",
              "      [theme=dark] .colab-df-generate {\n",
              "        background-color: #3B4455;\n",
              "        fill: #D2E3FC;\n",
              "      }\n",
              "\n",
              "      [theme=dark] .colab-df-generate:hover {\n",
              "        background-color: #434B5C;\n",
              "        box-shadow: 0px 1px 3px 1px rgba(0, 0, 0, 0.15);\n",
              "        filter: drop-shadow(0px 1px 2px rgba(0, 0, 0, 0.3));\n",
              "        fill: #FFFFFF;\n",
              "      }\n",
              "    </style>\n",
              "    <button class=\"colab-df-generate\" onclick=\"generateWithVariable('cardata1')\"\n",
              "            title=\"Generate code using this dataframe.\"\n",
              "            style=\"display:none;\">\n",
              "\n",
              "  <svg xmlns=\"http://www.w3.org/2000/svg\" height=\"24px\"viewBox=\"0 0 24 24\"\n",
              "       width=\"24px\">\n",
              "    <path d=\"M7,19H8.4L18.45,9,17,7.55,7,17.6ZM5,21V16.75L18.45,3.32a2,2,0,0,1,2.83,0l1.4,1.43a1.91,1.91,0,0,1,.58,1.4,1.91,1.91,0,0,1-.58,1.4L9.25,21ZM18.45,9,17,7.55Zm-12,3A5.31,5.31,0,0,0,4.9,8.1,5.31,5.31,0,0,0,1,6.5,5.31,5.31,0,0,0,4.9,4.9,5.31,5.31,0,0,0,6.5,1,5.31,5.31,0,0,0,8.1,4.9,5.31,5.31,0,0,0,12,6.5,5.46,5.46,0,0,0,6.5,12Z\"/>\n",
              "  </svg>\n",
              "    </button>\n",
              "    <script>\n",
              "      (() => {\n",
              "      const buttonEl =\n",
              "        document.querySelector('#id_e13c864f-debc-4470-8f44-34647baf4d07 button.colab-df-generate');\n",
              "      buttonEl.style.display =\n",
              "        google.colab.kernel.accessAllowed ? 'block' : 'none';\n",
              "\n",
              "      buttonEl.onclick = () => {\n",
              "        google.colab.notebook.generateWithVariable('cardata1');\n",
              "      }\n",
              "      })();\n",
              "    </script>\n",
              "  </div>\n",
              "\n",
              "    </div>\n",
              "  </div>\n"
            ]
          },
          "metadata": {},
          "execution_count": 11
        }
      ]
    },
    {
      "cell_type": "code",
      "source": [
        "#accessing a column from Df\n",
        "\n",
        "print(cardata1['make'])\n",
        "print(type(cardata1['make']))"
      ],
      "metadata": {
        "colab": {
          "base_uri": "https://localhost:8080/"
        },
        "id": "eVMBElW0kB8l",
        "outputId": "0bffe257-9dee-4286-9438-62c459d86773"
      },
      "execution_count": null,
      "outputs": [
        {
          "output_type": "stream",
          "name": "stdout",
          "text": [
            "1       kia\n",
            "2    Toyota\n",
            "3      Ford\n",
            "4     Tesla\n",
            "Name: make, dtype: object\n",
            "<class 'pandas.core.series.Series'>\n"
          ]
        }
      ]
    },
    {
      "cell_type": "code",
      "source": [
        "#accessing a row\n",
        "\n",
        "print(cardata1.iloc[0])"
      ],
      "metadata": {
        "colab": {
          "base_uri": "https://localhost:8080/"
        },
        "id": "VUCc-eWOqmZH",
        "outputId": "c972a104-d5aa-4c4f-abd9-7336add313b1"
      },
      "execution_count": null,
      "outputs": [
        {
          "output_type": "stream",
          "name": "stdout",
          "text": [
            "make            kia\n",
            "model         Forte\n",
            "MSRP          20000\n",
            "year           2019\n",
            "dealership    hiley\n",
            "Name: 1, dtype: object\n"
          ]
        }
      ]
    },
    {
      "cell_type": "code",
      "source": [
        "#accessing specific element -[row, column]\n",
        "\n",
        "print(cardata1.iloc[1,1])"
      ],
      "metadata": {
        "colab": {
          "base_uri": "https://localhost:8080/"
        },
        "id": "iEbmVknBqwJO",
        "outputId": "ab7910ee-aaac-4b38-93dd-d281b8c01c18"
      },
      "execution_count": null,
      "outputs": [
        {
          "output_type": "stream",
          "name": "stdout",
          "text": [
            "camry\n"
          ]
        }
      ]
    },
    {
      "cell_type": "code",
      "source": [
        "#slicing tge dataframe\n",
        "\n",
        "print(cardata.iloc[1:3,1:3])"
      ],
      "metadata": {
        "colab": {
          "base_uri": "https://localhost:8080/"
        },
        "id": "Wqu7jIz6rK9h",
        "outputId": "2a2cd19f-fce2-41d9-b2d1-c63d74a3b54b"
      },
      "execution_count": null,
      "outputs": [
        {
          "output_type": "stream",
          "name": "stdout",
          "text": [
            "     model   MSRP\n",
            "1    camry  25000\n",
            "2  mustang  35000\n"
          ]
        }
      ]
    },
    {
      "cell_type": "code",
      "source": [
        "print('shape',cardata1.shape)\n",
        "print('size',cardata1.size)"
      ],
      "metadata": {
        "colab": {
          "base_uri": "https://localhost:8080/"
        },
        "id": "WMaFtIb4rYQG",
        "outputId": "238b998e-0f3c-4d50-8256-d173b28c1f8b"
      },
      "execution_count": null,
      "outputs": [
        {
          "output_type": "stream",
          "name": "stdout",
          "text": [
            "shape (4, 5)\n",
            "size 20\n"
          ]
        }
      ]
    },
    {
      "cell_type": "code",
      "source": [
        "#filtering and selection\n",
        "\n",
        "print('filtering data')\n",
        "print('year > 2022', cardata1[cardata1.year>=2022])"
      ],
      "metadata": {
        "colab": {
          "base_uri": "https://localhost:8080/"
        },
        "id": "uwhyo5Yvripa",
        "outputId": "2287aa95-2c74-45e6-8859-dbc072ba2849"
      },
      "execution_count": null,
      "outputs": [
        {
          "output_type": "stream",
          "name": "stdout",
          "text": [
            "filtering data\n",
            "year > 2022      make    model   MSRP  year dealership\n",
            "2  Toyota    camry  25000  2022   dondavis\n",
            "3    Ford  mustang  35000  2022  parkplace\n",
            "4   Tesla   modelX  45000  2023     carmax\n"
          ]
        }
      ]
    },
    {
      "cell_type": "code",
      "source": [
        "print('dealership don davis', cardata1[cardata1.dealership=='dondavis'])"
      ],
      "metadata": {
        "colab": {
          "base_uri": "https://localhost:8080/"
        },
        "id": "QkPXFvY3r941",
        "outputId": "e829839e-6b6b-4386-9fe4-4ed0d81c37d5"
      },
      "execution_count": null,
      "outputs": [
        {
          "output_type": "stream",
          "name": "stdout",
          "text": [
            "dealership don davis      make  model   MSRP  year dealership\n",
            "2  Toyota  camry  25000  2022   dondavis\n"
          ]
        }
      ]
    },
    {
      "cell_type": "code",
      "source": [
        "#arithmetic and statistical functions on pandas df\n",
        "\n",
        "numm=np.linspace(-5,9,15).reshape(5,3)\n",
        "df=DataFrame(numm)\n",
        "print(df)"
      ],
      "metadata": {
        "colab": {
          "base_uri": "https://localhost:8080/"
        },
        "id": "aRJ4ZE8JsPoq",
        "outputId": "094e76af-9b29-4abf-c682-eeb51122ae14"
      },
      "execution_count": null,
      "outputs": [
        {
          "output_type": "stream",
          "name": "stdout",
          "text": [
            "     0    1    2\n",
            "0 -5.0 -4.0 -3.0\n",
            "1 -2.0 -1.0  0.0\n",
            "2  1.0  2.0  3.0\n",
            "3  4.0  5.0  6.0\n",
            "4  7.0  8.0  9.0\n"
          ]
        }
      ]
    },
    {
      "cell_type": "code",
      "source": [
        "print('add',df+5)"
      ],
      "metadata": {
        "colab": {
          "base_uri": "https://localhost:8080/"
        },
        "id": "rE0Hcu0vyDu9",
        "outputId": "b3f1d068-d8e9-42b4-c737-97a050d80051"
      },
      "execution_count": null,
      "outputs": [
        {
          "output_type": "stream",
          "name": "stdout",
          "text": [
            "add       0     1     2\n",
            "0   0.0   1.0   2.0\n",
            "1   3.0   4.0   5.0\n",
            "2   6.0   7.0   8.0\n",
            "3   9.0  10.0  11.0\n",
            "4  12.0  13.0  14.0\n"
          ]
        }
      ]
    },
    {
      "cell_type": "code",
      "source": [
        "# datafr 1 and df2 = same shape , and same columns\n",
        "\n",
        "print('absolute\\n',df.abs())"
      ],
      "metadata": {
        "colab": {
          "base_uri": "https://localhost:8080/"
        },
        "id": "EfJyXAmyyLJf",
        "outputId": "cb3e1aff-bc09-4fba-820a-b59801589951"
      },
      "execution_count": null,
      "outputs": [
        {
          "output_type": "stream",
          "name": "stdout",
          "text": [
            "absolute\n",
            "      0    1    2\n",
            "0  5.0  4.0  3.0\n",
            "1  2.0  1.0  0.0\n",
            "2  1.0  2.0  3.0\n",
            "3  4.0  5.0  6.0\n",
            "4  7.0  8.0  9.0\n"
          ]
        }
      ]
    },
    {
      "cell_type": "code",
      "source": [
        "print('max\\n',df.max()) #default value of axis=0"
      ],
      "metadata": {
        "colab": {
          "base_uri": "https://localhost:8080/"
        },
        "id": "h01UpPHTyhdB",
        "outputId": "894fcf00-84db-479c-e1de-b183f27a67da"
      },
      "execution_count": null,
      "outputs": [
        {
          "output_type": "stream",
          "name": "stdout",
          "text": [
            "max\n",
            " 0    7.0\n",
            "1    8.0\n",
            "2    9.0\n",
            "dtype: float64\n"
          ]
        }
      ]
    },
    {
      "cell_type": "code",
      "source": [
        "print(df)"
      ],
      "metadata": {
        "colab": {
          "base_uri": "https://localhost:8080/"
        },
        "id": "435n7ZdPyqZw",
        "outputId": "4671488e-3846-48af-ff75-4af739374a69"
      },
      "execution_count": null,
      "outputs": [
        {
          "output_type": "stream",
          "name": "stdout",
          "text": [
            "     0    1    2\n",
            "0 -5.0 -4.0 -3.0\n",
            "1 -2.0 -1.0  0.0\n",
            "2  1.0  2.0  3.0\n",
            "3  4.0  5.0  6.0\n",
            "4  7.0  8.0  9.0\n"
          ]
        }
      ]
    },
    {
      "cell_type": "code",
      "source": [
        "print('max row wise\\n',df.max(axis=1))"
      ],
      "metadata": {
        "colab": {
          "base_uri": "https://localhost:8080/"
        },
        "id": "54K9qDbXyx1F",
        "outputId": "13dc7b7a-f67a-4d02-8c2b-dc32ed2ed34e"
      },
      "execution_count": null,
      "outputs": [
        {
          "output_type": "stream",
          "name": "stdout",
          "text": [
            "max row wise\n",
            " 0   -3.0\n",
            "1    0.0\n",
            "2    3.0\n",
            "3    6.0\n",
            "4    9.0\n",
            "dtype: float64\n"
          ]
        }
      ]
    },
    {
      "cell_type": "code",
      "source": [
        "print('sum column wise \\n',df.sum())\n",
        "print('sum row wise \\n',df.sum(axis=1))"
      ],
      "metadata": {
        "colab": {
          "base_uri": "https://localhost:8080/"
        },
        "id": "qIOfCwJ0y9Fa",
        "outputId": "dbfb6a76-83ec-4ab4-cea3-fe26a3379cc1"
      },
      "execution_count": null,
      "outputs": [
        {
          "output_type": "stream",
          "name": "stdout",
          "text": [
            "sum column wise \n",
            " 0     5.0\n",
            "1    10.0\n",
            "2    15.0\n",
            "dtype: float64\n",
            "sum row wise \n",
            " 0   -12.0\n",
            "1    -3.0\n",
            "2     6.0\n",
            "3    15.0\n",
            "4    24.0\n",
            "dtype: float64\n"
          ]
        }
      ]
    },
    {
      "cell_type": "code",
      "source": [
        "print('mean column wise \\n',df.mean())\n",
        "print('mean row wise \\n',df.mean(axis=1))"
      ],
      "metadata": {
        "colab": {
          "base_uri": "https://localhost:8080/"
        },
        "id": "xbd24zeKzR4L",
        "outputId": "baa83d0a-35fc-4c97-abf2-577cb2a69f47"
      },
      "execution_count": null,
      "outputs": [
        {
          "output_type": "stream",
          "name": "stdout",
          "text": [
            "mean column wise \n",
            " 0    1.0\n",
            "1    2.0\n",
            "2    3.0\n",
            "dtype: float64\n",
            "mean row wise \n",
            " 0   -4.0\n",
            "1   -1.0\n",
            "2    2.0\n",
            "3    5.0\n",
            "4    8.0\n",
            "dtype: float64\n"
          ]
        }
      ]
    },
    {
      "cell_type": "code",
      "source": [
        "#max -min value row and column wise\n",
        "\n",
        "f=lambda x: x.max()-x.min()\n",
        "\n",
        "print('row wise max-min \\n',df.apply(f,axis=1))\n",
        "\n",
        "print('column wise max-min \\n',df.apply(f,axis=0))"
      ],
      "metadata": {
        "colab": {
          "base_uri": "https://localhost:8080/"
        },
        "id": "E_fG4el5zbMh",
        "outputId": "93ebebd6-039b-4526-b474-e1be9884880c"
      },
      "execution_count": null,
      "outputs": [
        {
          "output_type": "stream",
          "name": "stdout",
          "text": [
            "row wise max-min \n",
            " 0    2.0\n",
            "1    2.0\n",
            "2    2.0\n",
            "3    2.0\n",
            "4    2.0\n",
            "dtype: float64\n",
            "column wise max-min \n",
            " 0    12.0\n",
            "1    12.0\n",
            "2    12.0\n",
            "dtype: float64\n"
          ]
        }
      ]
    },
    {
      "cell_type": "markdown",
      "source": [
        "visualizing data in series and a dataframe"
      ],
      "metadata": {
        "id": "N-Onl8b23ccB"
      }
    },
    {
      "cell_type": "code",
      "source": [
        "%matplotlib inline\n",
        "applestocks=Series([250,270,200,150,310],index=['1pm','2pm','3pm','4pm','5pm'])\n",
        "print(applestocks)"
      ],
      "metadata": {
        "colab": {
          "base_uri": "https://localhost:8080/"
        },
        "id": "fhmyH2gkz4MU",
        "outputId": "37a8b245-9dc4-4cf8-db94-2dcd196ebbc8"
      },
      "execution_count": null,
      "outputs": [
        {
          "output_type": "stream",
          "name": "stdout",
          "text": [
            "1pm    250\n",
            "2pm    270\n",
            "3pm    200\n",
            "4pm    150\n",
            "5pm    310\n",
            "dtype: int64\n"
          ]
        }
      ]
    },
    {
      "cell_type": "code",
      "source": [
        "applestocks.plot(kind='line',title='Line plot')"
      ],
      "metadata": {
        "colab": {
          "base_uri": "https://localhost:8080/",
          "height": 469
        },
        "id": "Cm_05BK136Gj",
        "outputId": "27a3f1bb-a8ef-4551-97a9-50a2426114c5"
      },
      "execution_count": null,
      "outputs": [
        {
          "output_type": "execute_result",
          "data": {
            "text/plain": [
              "<Axes: title={'center': 'Line plot'}>"
            ]
          },
          "metadata": {},
          "execution_count": 33
        },
        {
          "output_type": "display_data",
          "data": {
            "text/plain": [
              "<Figure size 640x480 with 1 Axes>"
            ],
            "image/png": "[encoded data removed]"
          },
          "metadata": {}
        }
      ]
    },
    {
      "cell_type": "code",
      "source": [
        "applestocks.plot(kind='bar',title='Bar plot')"
      ],
      "metadata": {
        "colab": {
          "base_uri": "https://localhost:8080/",
          "height": 486
        },
        "id": "Lon36Y_d4FZC",
        "outputId": "1ea6429e-8356-4f63-e3b7-b07ad9410fe7"
      },
      "execution_count": null,
      "outputs": [
        {
          "output_type": "execute_result",
          "data": {
            "text/plain": [
              "<Axes: title={'center': 'Bar plot'}>"
            ]
          },
          "metadata": {},
          "execution_count": 34
        },
        {
          "output_type": "display_data",
          "data": {
            "text/plain": [
              "<Figure size 640x480 with 1 Axes>"
            ],
            "image/png": "[encoded data removed]"
          },
          "metadata": {}
        }
      ]
    },
    {
      "cell_type": "code",
      "source": [
        "tuplelist = [(2011,45.1,32.4),(2012,42.4,34.5),(2013,47.2,39.2),\n",
        "              (2014,44.2,31.4),(2015,39.9,29.8),(2016,41.5,36.7)]\n",
        "\n",
        "columnName=['year','temperature','precip']\n",
        "\n",
        "weather=DataFrame(tuplelist,columns=columnName)\n",
        "print(weather)"
      ],
      "metadata": {
        "colab": {
          "base_uri": "https://localhost:8080/"
        },
        "id": "4vLwSuXv4UVV",
        "outputId": "4927a1dd-7410-4039-9536-4acd4092aa70"
      },
      "execution_count": null,
      "outputs": [
        {
          "output_type": "stream",
          "name": "stdout",
          "text": [
            "   year  temperature  precip\n",
            "0  2011         45.1    32.4\n",
            "1  2012         42.4    34.5\n",
            "2  2013         47.2    39.2\n",
            "3  2014         44.2    31.4\n",
            "4  2015         39.9    29.8\n",
            "5  2016         41.5    36.7\n"
          ]
        }
      ]
    },
    {
      "cell_type": "code",
      "source": [
        "weather[['temperature','precip']].plot(kind='box',title='Box plot')"
      ],
      "metadata": {
        "colab": {
          "base_uri": "https://localhost:8080/",
          "height": 469
        },
        "id": "2zJLJNjV4vSA",
        "outputId": "ba0b80d4-8707-4261-8799-7784ef3dfc25"
      },
      "execution_count": null,
      "outputs": [
        {
          "output_type": "execute_result",
          "data": {
            "text/plain": [
              "<Axes: title={'center': 'Box plot'}>"
            ]
          },
          "metadata": {},
          "execution_count": 36
        },
        {
          "output_type": "display_data",
          "data": {
            "text/plain": [
              "<Figure size 640x480 with 1 Axes>"
            ],
            "image/png": "[encoded data removed]"
          },
          "metadata": {}
        }
      ]
    },
    {
      "cell_type": "code",
      "source": [
        "#scatter plot\n",
        "\n",
        "weather.plot(kind='scatter',title='scatter plot',x='temperature',y='precip')"
      ],
      "metadata": {
        "colab": {
          "base_uri": "https://localhost:8080/",
          "height": 489
        },
        "id": "EZMIigMe48kx",
        "outputId": "966b5de1-c205-4fe6-9028-0d263148d359"
      },
      "execution_count": null,
      "outputs": [
        {
          "output_type": "execute_result",
          "data": {
            "text/plain": [
              "<Axes: title={'center': 'scatter plot'}, xlabel='temperature', ylabel='precip'>"
            ]
          },
          "metadata": {},
          "execution_count": 37
        },
        {
          "output_type": "display_data",
          "data": {
            "text/plain": [
              "<Figure size 640x480 with 1 Axes>"
            ],
            "image/png": "[encoded data removed]"
          },
          "metadata": {}
        }
      ]
    },
    {
      "cell_type": "markdown",
      "source": [
        "https://pandas.pydata.org/docs/"
      ],
      "metadata": {
        "id": "rIpic6495zMs"
      }
    },
    {
      "cell_type": "code",
      "source": [],
      "metadata": {
        "id": "zr_uno7o5QTV"
      },
      "execution_count": null,
      "outputs": []
    }
  ]
}